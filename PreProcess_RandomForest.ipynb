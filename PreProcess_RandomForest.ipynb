{
 "cells": [
  {
   "cell_type": "code",
   "execution_count": 150,
   "id": "HZTH9Gl7LKcS",
   "metadata": {
    "id": "HZTH9Gl7LKcS"
   },
   "outputs": [],
   "source": [
    "import math\n",
    "import numpy as np\n",
    "import pandas as pd\n",
    "from sklearn.preprocessing import StandardScaler\n",
    "from sklearn.model_selection import train_test_split\n",
    "from sklearn.metrics import accuracy_score, confusion_matrix\n",
    "from sklearn.ensemble import RandomForestClassifier,GradientBoostingClassifier\n",
    "import matplotlib.pyplot as plt\n",
    "import seaborn as sns"
   ]
  },
  {
   "cell_type": "code",
   "execution_count": 123,
   "id": "2PmKUk-DxPGx",
   "metadata": {
    "colab": {
     "base_uri": "https://localhost:8080/",
     "height": 487
    },
    "id": "2PmKUk-DxPGx",
    "outputId": "fe2cd238-baa6-4364-9cae-37a42853561a"
   },
   "outputs": [
    {
     "data": {
      "text/html": [
       "<div>\n",
       "<style scoped>\n",
       "    .dataframe tbody tr th:only-of-type {\n",
       "        vertical-align: middle;\n",
       "    }\n",
       "\n",
       "    .dataframe tbody tr th {\n",
       "        vertical-align: top;\n",
       "    }\n",
       "\n",
       "    .dataframe thead th {\n",
       "        text-align: right;\n",
       "    }\n",
       "</style>\n",
       "<table border=\"1\" class=\"dataframe\">\n",
       "  <thead>\n",
       "    <tr style=\"text-align: right;\">\n",
       "      <th></th>\n",
       "      <th>App Name</th>\n",
       "      <th>App Id</th>\n",
       "      <th>Category</th>\n",
       "      <th>Rating</th>\n",
       "      <th>Rating Count</th>\n",
       "      <th>Installs</th>\n",
       "      <th>Minimum Installs</th>\n",
       "      <th>Maximum Installs</th>\n",
       "      <th>Free</th>\n",
       "      <th>Price</th>\n",
       "      <th>...</th>\n",
       "      <th>Developer Website</th>\n",
       "      <th>Developer Email</th>\n",
       "      <th>Released</th>\n",
       "      <th>Last Updated</th>\n",
       "      <th>Content Rating</th>\n",
       "      <th>Privacy Policy</th>\n",
       "      <th>Ad Supported</th>\n",
       "      <th>In App Purchases</th>\n",
       "      <th>Editors Choice</th>\n",
       "      <th>Scraped Time</th>\n",
       "    </tr>\n",
       "  </thead>\n",
       "  <tbody>\n",
       "    <tr>\n",
       "      <th>0</th>\n",
       "      <td>Gakondo</td>\n",
       "      <td>com.ishakwe.gakondo</td>\n",
       "      <td>Adventure</td>\n",
       "      <td>0.0</td>\n",
       "      <td>0.0</td>\n",
       "      <td>10+</td>\n",
       "      <td>10.0</td>\n",
       "      <td>15</td>\n",
       "      <td>True</td>\n",
       "      <td>0.0</td>\n",
       "      <td>...</td>\n",
       "      <td>https://beniyizibyose.tk/#/</td>\n",
       "      <td>jean21101999@gmail.com</td>\n",
       "      <td>Feb 26, 2020</td>\n",
       "      <td>Feb 26, 2020</td>\n",
       "      <td>Everyone</td>\n",
       "      <td>https://beniyizibyose.tk/projects/</td>\n",
       "      <td>False</td>\n",
       "      <td>False</td>\n",
       "      <td>False</td>\n",
       "      <td>2021-06-15 20:19:35</td>\n",
       "    </tr>\n",
       "    <tr>\n",
       "      <th>1</th>\n",
       "      <td>Ampere Battery Info</td>\n",
       "      <td>com.webserveis.batteryinfo</td>\n",
       "      <td>Tools</td>\n",
       "      <td>4.4</td>\n",
       "      <td>64.0</td>\n",
       "      <td>5,000+</td>\n",
       "      <td>5000.0</td>\n",
       "      <td>7662</td>\n",
       "      <td>True</td>\n",
       "      <td>0.0</td>\n",
       "      <td>...</td>\n",
       "      <td>https://webserveis.netlify.app/</td>\n",
       "      <td>webserveis@gmail.com</td>\n",
       "      <td>May 21, 2020</td>\n",
       "      <td>May 06, 2021</td>\n",
       "      <td>Everyone</td>\n",
       "      <td>https://dev4phones.wordpress.com/licencia-de-uso/</td>\n",
       "      <td>True</td>\n",
       "      <td>False</td>\n",
       "      <td>False</td>\n",
       "      <td>2021-06-15 20:19:35</td>\n",
       "    </tr>\n",
       "    <tr>\n",
       "      <th>2</th>\n",
       "      <td>Vibook</td>\n",
       "      <td>com.doantiepvien.crm</td>\n",
       "      <td>Productivity</td>\n",
       "      <td>0.0</td>\n",
       "      <td>0.0</td>\n",
       "      <td>50+</td>\n",
       "      <td>50.0</td>\n",
       "      <td>58</td>\n",
       "      <td>True</td>\n",
       "      <td>0.0</td>\n",
       "      <td>...</td>\n",
       "      <td>NaN</td>\n",
       "      <td>vnacrewit@gmail.com</td>\n",
       "      <td>Aug 9, 2019</td>\n",
       "      <td>Aug 19, 2019</td>\n",
       "      <td>Everyone</td>\n",
       "      <td>https://www.vietnamairlines.com/vn/en/terms-an...</td>\n",
       "      <td>False</td>\n",
       "      <td>False</td>\n",
       "      <td>False</td>\n",
       "      <td>2021-06-15 20:19:35</td>\n",
       "    </tr>\n",
       "    <tr>\n",
       "      <th>3</th>\n",
       "      <td>Smart City Trichy Public Service Vehicles 17UC...</td>\n",
       "      <td>cst.stJoseph.ug17ucs548</td>\n",
       "      <td>Communication</td>\n",
       "      <td>5.0</td>\n",
       "      <td>5.0</td>\n",
       "      <td>10+</td>\n",
       "      <td>10.0</td>\n",
       "      <td>19</td>\n",
       "      <td>True</td>\n",
       "      <td>0.0</td>\n",
       "      <td>...</td>\n",
       "      <td>http://www.climatesmarttech.com/</td>\n",
       "      <td>climatesmarttech2@gmail.com</td>\n",
       "      <td>Sep 10, 2018</td>\n",
       "      <td>Oct 13, 2018</td>\n",
       "      <td>Everyone</td>\n",
       "      <td>NaN</td>\n",
       "      <td>True</td>\n",
       "      <td>False</td>\n",
       "      <td>False</td>\n",
       "      <td>2021-06-15 20:19:35</td>\n",
       "    </tr>\n",
       "    <tr>\n",
       "      <th>4</th>\n",
       "      <td>GROW.me</td>\n",
       "      <td>com.horodyski.grower</td>\n",
       "      <td>Tools</td>\n",
       "      <td>0.0</td>\n",
       "      <td>0.0</td>\n",
       "      <td>100+</td>\n",
       "      <td>100.0</td>\n",
       "      <td>478</td>\n",
       "      <td>True</td>\n",
       "      <td>0.0</td>\n",
       "      <td>...</td>\n",
       "      <td>http://www.horodyski.com.pl</td>\n",
       "      <td>rmilekhorodyski@gmail.com</td>\n",
       "      <td>Feb 21, 2020</td>\n",
       "      <td>Nov 12, 2018</td>\n",
       "      <td>Everyone</td>\n",
       "      <td>http://www.horodyski.com.pl</td>\n",
       "      <td>False</td>\n",
       "      <td>False</td>\n",
       "      <td>False</td>\n",
       "      <td>2021-06-15 20:19:35</td>\n",
       "    </tr>\n",
       "  </tbody>\n",
       "</table>\n",
       "<p>5 rows × 24 columns</p>\n",
       "</div>"
      ],
      "text/plain": [
       "                                            App Name  \\\n",
       "0                                            Gakondo   \n",
       "1                                Ampere Battery Info   \n",
       "2                                             Vibook   \n",
       "3  Smart City Trichy Public Service Vehicles 17UC...   \n",
       "4                                            GROW.me   \n",
       "\n",
       "                       App Id       Category  Rating  Rating Count Installs  \\\n",
       "0         com.ishakwe.gakondo      Adventure     0.0           0.0      10+   \n",
       "1  com.webserveis.batteryinfo          Tools     4.4          64.0   5,000+   \n",
       "2        com.doantiepvien.crm   Productivity     0.0           0.0      50+   \n",
       "3     cst.stJoseph.ug17ucs548  Communication     5.0           5.0      10+   \n",
       "4        com.horodyski.grower          Tools     0.0           0.0     100+   \n",
       "\n",
       "   Minimum Installs  Maximum Installs  Free  Price  ...  \\\n",
       "0              10.0                15  True    0.0  ...   \n",
       "1            5000.0              7662  True    0.0  ...   \n",
       "2              50.0                58  True    0.0  ...   \n",
       "3              10.0                19  True    0.0  ...   \n",
       "4             100.0               478  True    0.0  ...   \n",
       "\n",
       "                  Developer Website              Developer Email  \\\n",
       "0       https://beniyizibyose.tk/#/       jean21101999@gmail.com   \n",
       "1   https://webserveis.netlify.app/         webserveis@gmail.com   \n",
       "2                               NaN          vnacrewit@gmail.com   \n",
       "3  http://www.climatesmarttech.com/  climatesmarttech2@gmail.com   \n",
       "4       http://www.horodyski.com.pl    rmilekhorodyski@gmail.com   \n",
       "\n",
       "       Released  Last Updated Content Rating  \\\n",
       "0  Feb 26, 2020  Feb 26, 2020       Everyone   \n",
       "1  May 21, 2020  May 06, 2021       Everyone   \n",
       "2   Aug 9, 2019  Aug 19, 2019       Everyone   \n",
       "3  Sep 10, 2018  Oct 13, 2018       Everyone   \n",
       "4  Feb 21, 2020  Nov 12, 2018       Everyone   \n",
       "\n",
       "                                      Privacy Policy Ad Supported  \\\n",
       "0                 https://beniyizibyose.tk/projects/        False   \n",
       "1  https://dev4phones.wordpress.com/licencia-de-uso/         True   \n",
       "2  https://www.vietnamairlines.com/vn/en/terms-an...        False   \n",
       "3                                                NaN         True   \n",
       "4                        http://www.horodyski.com.pl        False   \n",
       "\n",
       "  In App Purchases Editors Choice         Scraped Time  \n",
       "0            False          False  2021-06-15 20:19:35  \n",
       "1            False          False  2021-06-15 20:19:35  \n",
       "2            False          False  2021-06-15 20:19:35  \n",
       "3            False          False  2021-06-15 20:19:35  \n",
       "4            False          False  2021-06-15 20:19:35  \n",
       "\n",
       "[5 rows x 24 columns]"
      ]
     },
     "execution_count": 123,
     "metadata": {},
     "output_type": "execute_result"
    }
   ],
   "source": [
    "app_data = pd.read_csv(\"Google-Playstore.csv\")\n",
    "app_data.head()"
   ]
  },
  {
   "cell_type": "code",
   "execution_count": 66,
   "id": "yDbRa8duLKcX",
   "metadata": {
    "colab": {
     "base_uri": "https://localhost:8080/"
    },
    "id": "yDbRa8duLKcX",
    "outputId": "541b313e-1338-4ec1-a900-d322b0a72b8f"
   },
   "outputs": [
    {
     "name": "stdout",
     "output_type": "stream",
     "text": [
      "<class 'pandas.core.frame.DataFrame'>\n",
      "RangeIndex: 2312944 entries, 0 to 2312943\n",
      "Data columns (total 24 columns):\n",
      " #   Column             Dtype  \n",
      "---  ------             -----  \n",
      " 0   App Name           object \n",
      " 1   App Id             object \n",
      " 2   Category           object \n",
      " 3   Rating             float64\n",
      " 4   Rating Count       float64\n",
      " 5   Installs           object \n",
      " 6   Minimum Installs   float64\n",
      " 7   Maximum Installs   int64  \n",
      " 8   Free               bool   \n",
      " 9   Price              float64\n",
      " 10  Currency           object \n",
      " 11  Size               object \n",
      " 12  Minimum Android    object \n",
      " 13  Developer Id       object \n",
      " 14  Developer Website  object \n",
      " 15  Developer Email    object \n",
      " 16  Released           object \n",
      " 17  Last Updated       object \n",
      " 18  Content Rating     object \n",
      " 19  Privacy Policy     object \n",
      " 20  Ad Supported       bool   \n",
      " 21  In App Purchases   bool   \n",
      " 22  Editors Choice     bool   \n",
      " 23  Scraped Time       object \n",
      "dtypes: bool(4), float64(4), int64(1), object(15)\n",
      "memory usage: 361.8+ MB\n"
     ]
    }
   ],
   "source": [
    "app_data.info()"
   ]
  },
  {
   "cell_type": "code",
   "execution_count": 67,
   "id": "bpi2u1GALKcY",
   "metadata": {
    "colab": {
     "base_uri": "https://localhost:8080/"
    },
    "id": "bpi2u1GALKcY",
    "outputId": "21f0da9a-6abb-45e9-e09b-aacfe47b2765"
   },
   "outputs": [
    {
     "name": "stdout",
     "output_type": "stream",
     "text": [
      "(2312944, 24)\n"
     ]
    }
   ],
   "source": [
    "original_dim = app_data.shape\n",
    "print(original_dim)"
   ]
  },
  {
   "cell_type": "code",
   "execution_count": 68,
   "id": "ioCkAqyCztrv",
   "metadata": {
    "colab": {
     "base_uri": "https://localhost:8080/"
    },
    "id": "ioCkAqyCztrv",
    "outputId": "f1c43a3f-4a75-40b3-8502-d01cbb3b5abe"
   },
   "outputs": [
    {
     "data": {
      "text/plain": [
       "0.000000     2268011\n",
       "0.990000       11851\n",
       "1.990000        5817\n",
       "2.990000        3921\n",
       "1.490000        3823\n",
       "              ...   \n",
       "8.205856           1\n",
       "1.030097           1\n",
       "13.530000          1\n",
       "3.550000           1\n",
       "18.903596          1\n",
       "Name: Price, Length: 1063, dtype: int64"
      ]
     },
     "execution_count": 68,
     "metadata": {},
     "output_type": "execute_result"
    }
   ],
   "source": [
    "app_data[\"Price\"].value_counts()"
   ]
  },
  {
   "cell_type": "code",
   "execution_count": 69,
   "id": "Pu2ghs-yz-VM",
   "metadata": {
    "colab": {
     "base_uri": "https://localhost:8080/"
    },
    "id": "Pu2ghs-yz-VM",
    "outputId": "fb756711-53b9-4038-f27b-633efa25a996"
   },
   "outputs": [
    {
     "data": {
      "text/plain": [
       "(2312944, 0.980573243450771)"
      ]
     },
     "execution_count": 69,
     "metadata": {},
     "output_type": "execute_result"
    }
   ],
   "source": [
    "app_data['Price'].count(), 2268011/2312944"
   ]
  },
  {
   "cell_type": "markdown",
   "id": "6bhCaTd70J1w",
   "metadata": {
    "id": "6bhCaTd70J1w"
   },
   "source": [
    "Since over 98% of applications are free, the attribute 'Price' will be inconsequential for predicting Ratings.\n",
    "Dropping columns like App Id, Currency etc that are not contributing to further analysis."
   ]
  },
  {
   "cell_type": "code",
   "execution_count": 124,
   "id": "_h3hdgOlLKcZ",
   "metadata": {
    "colab": {
     "base_uri": "https://localhost:8080/",
     "height": 310
    },
    "id": "_h3hdgOlLKcZ",
    "outputId": "16c5b8c2-050e-41bf-ccb9-699169a41de1"
   },
   "outputs": [
    {
     "data": {
      "text/html": [
       "<div>\n",
       "<style scoped>\n",
       "    .dataframe tbody tr th:only-of-type {\n",
       "        vertical-align: middle;\n",
       "    }\n",
       "\n",
       "    .dataframe tbody tr th {\n",
       "        vertical-align: top;\n",
       "    }\n",
       "\n",
       "    .dataframe thead th {\n",
       "        text-align: right;\n",
       "    }\n",
       "</style>\n",
       "<table border=\"1\" class=\"dataframe\">\n",
       "  <thead>\n",
       "    <tr style=\"text-align: right;\">\n",
       "      <th></th>\n",
       "      <th>App Name</th>\n",
       "      <th>Category</th>\n",
       "      <th>Rating</th>\n",
       "      <th>Rating Count</th>\n",
       "      <th>Installs</th>\n",
       "      <th>Minimum Installs</th>\n",
       "      <th>Maximum Installs</th>\n",
       "      <th>Free</th>\n",
       "      <th>Size</th>\n",
       "      <th>Minimum Android</th>\n",
       "      <th>Released</th>\n",
       "      <th>Last Updated</th>\n",
       "      <th>Content Rating</th>\n",
       "      <th>Ad Supported</th>\n",
       "      <th>In App Purchases</th>\n",
       "    </tr>\n",
       "  </thead>\n",
       "  <tbody>\n",
       "    <tr>\n",
       "      <th>0</th>\n",
       "      <td>Gakondo</td>\n",
       "      <td>Adventure</td>\n",
       "      <td>0.0</td>\n",
       "      <td>0.0</td>\n",
       "      <td>10+</td>\n",
       "      <td>10.0</td>\n",
       "      <td>15</td>\n",
       "      <td>True</td>\n",
       "      <td>10M</td>\n",
       "      <td>7.1 and up</td>\n",
       "      <td>Feb 26, 2020</td>\n",
       "      <td>Feb 26, 2020</td>\n",
       "      <td>Everyone</td>\n",
       "      <td>False</td>\n",
       "      <td>False</td>\n",
       "    </tr>\n",
       "    <tr>\n",
       "      <th>1</th>\n",
       "      <td>Ampere Battery Info</td>\n",
       "      <td>Tools</td>\n",
       "      <td>4.4</td>\n",
       "      <td>64.0</td>\n",
       "      <td>5,000+</td>\n",
       "      <td>5000.0</td>\n",
       "      <td>7662</td>\n",
       "      <td>True</td>\n",
       "      <td>2.9M</td>\n",
       "      <td>5.0 and up</td>\n",
       "      <td>May 21, 2020</td>\n",
       "      <td>May 06, 2021</td>\n",
       "      <td>Everyone</td>\n",
       "      <td>True</td>\n",
       "      <td>False</td>\n",
       "    </tr>\n",
       "    <tr>\n",
       "      <th>2</th>\n",
       "      <td>Vibook</td>\n",
       "      <td>Productivity</td>\n",
       "      <td>0.0</td>\n",
       "      <td>0.0</td>\n",
       "      <td>50+</td>\n",
       "      <td>50.0</td>\n",
       "      <td>58</td>\n",
       "      <td>True</td>\n",
       "      <td>3.7M</td>\n",
       "      <td>4.0.3 and up</td>\n",
       "      <td>Aug 9, 2019</td>\n",
       "      <td>Aug 19, 2019</td>\n",
       "      <td>Everyone</td>\n",
       "      <td>False</td>\n",
       "      <td>False</td>\n",
       "    </tr>\n",
       "    <tr>\n",
       "      <th>3</th>\n",
       "      <td>Smart City Trichy Public Service Vehicles 17UC...</td>\n",
       "      <td>Communication</td>\n",
       "      <td>5.0</td>\n",
       "      <td>5.0</td>\n",
       "      <td>10+</td>\n",
       "      <td>10.0</td>\n",
       "      <td>19</td>\n",
       "      <td>True</td>\n",
       "      <td>1.8M</td>\n",
       "      <td>4.0.3 and up</td>\n",
       "      <td>Sep 10, 2018</td>\n",
       "      <td>Oct 13, 2018</td>\n",
       "      <td>Everyone</td>\n",
       "      <td>True</td>\n",
       "      <td>False</td>\n",
       "    </tr>\n",
       "    <tr>\n",
       "      <th>4</th>\n",
       "      <td>GROW.me</td>\n",
       "      <td>Tools</td>\n",
       "      <td>0.0</td>\n",
       "      <td>0.0</td>\n",
       "      <td>100+</td>\n",
       "      <td>100.0</td>\n",
       "      <td>478</td>\n",
       "      <td>True</td>\n",
       "      <td>6.2M</td>\n",
       "      <td>4.1 and up</td>\n",
       "      <td>Feb 21, 2020</td>\n",
       "      <td>Nov 12, 2018</td>\n",
       "      <td>Everyone</td>\n",
       "      <td>False</td>\n",
       "      <td>False</td>\n",
       "    </tr>\n",
       "  </tbody>\n",
       "</table>\n",
       "</div>"
      ],
      "text/plain": [
       "                                            App Name       Category  Rating  \\\n",
       "0                                            Gakondo      Adventure     0.0   \n",
       "1                                Ampere Battery Info          Tools     4.4   \n",
       "2                                             Vibook   Productivity     0.0   \n",
       "3  Smart City Trichy Public Service Vehicles 17UC...  Communication     5.0   \n",
       "4                                            GROW.me          Tools     0.0   \n",
       "\n",
       "   Rating Count Installs  Minimum Installs  Maximum Installs  Free  Size  \\\n",
       "0           0.0      10+              10.0                15  True   10M   \n",
       "1          64.0   5,000+            5000.0              7662  True  2.9M   \n",
       "2           0.0      50+              50.0                58  True  3.7M   \n",
       "3           5.0      10+              10.0                19  True  1.8M   \n",
       "4           0.0     100+             100.0               478  True  6.2M   \n",
       "\n",
       "  Minimum Android      Released  Last Updated Content Rating  Ad Supported  \\\n",
       "0      7.1 and up  Feb 26, 2020  Feb 26, 2020       Everyone         False   \n",
       "1      5.0 and up  May 21, 2020  May 06, 2021       Everyone          True   \n",
       "2    4.0.3 and up   Aug 9, 2019  Aug 19, 2019       Everyone         False   \n",
       "3    4.0.3 and up  Sep 10, 2018  Oct 13, 2018       Everyone          True   \n",
       "4      4.1 and up  Feb 21, 2020  Nov 12, 2018       Everyone         False   \n",
       "\n",
       "   In App Purchases  \n",
       "0             False  \n",
       "1             False  \n",
       "2             False  \n",
       "3             False  \n",
       "4             False  "
      ]
     },
     "execution_count": 124,
     "metadata": {},
     "output_type": "execute_result"
    }
   ],
   "source": [
    "app_data.drop(['App Id', 'Currency', 'Developer Id', 'Developer Website', 'Developer Email', 'Privacy Policy', 'Editors Choice', 'Scraped Time','Price'], axis=1, inplace=True)\n",
    "app_data.head()"
   ]
  },
  {
   "cell_type": "code",
   "execution_count": 71,
   "id": "SkeXdPmRLKcZ",
   "metadata": {
    "colab": {
     "base_uri": "https://localhost:8080/"
    },
    "id": "SkeXdPmRLKcZ",
    "outputId": "228387f4-769e-4752-cdcd-db5d6da662fa"
   },
   "outputs": [
    {
     "name": "stdout",
     "output_type": "stream",
     "text": [
      "App Name                2\n",
      "Category                0\n",
      "Rating              22883\n",
      "Rating Count        22883\n",
      "Installs              107\n",
      "Minimum Installs      107\n",
      "Maximum Installs        0\n",
      "Free                    0\n",
      "Size                  196\n",
      "Minimum Android      6530\n",
      "Released            71053\n",
      "Last Updated            0\n",
      "Content Rating          0\n",
      "Ad Supported            0\n",
      "In App Purchases        0\n",
      "dtype: int64\n"
     ]
    }
   ],
   "source": [
    "print(app_data.isnull().sum())"
   ]
  },
  {
   "cell_type": "code",
   "execution_count": 72,
   "id": "MmlJf2FFLKca",
   "metadata": {
    "colab": {
     "base_uri": "https://localhost:8080/"
    },
    "id": "MmlJf2FFLKca",
    "outputId": "be9f0395-ec15-430c-9d24-4b27e65d5961"
   },
   "outputs": [
    {
     "name": "stdout",
     "output_type": "stream",
     "text": [
      "(2312944, 15)\n"
     ]
    }
   ],
   "source": [
    "reduced_dim = app_data.shape\n",
    "print(reduced_dim)"
   ]
  },
  {
   "cell_type": "code",
   "execution_count": 125,
   "id": "S1FkXq57LKca",
   "metadata": {
    "colab": {
     "base_uri": "https://localhost:8080/"
    },
    "id": "S1FkXq57LKca",
    "outputId": "6f7fe211-4de9-41dc-8efc-3c076c3bf8fd"
   },
   "outputs": [],
   "source": [
    "#Dropping rows with null value for particular columns\n",
    "app_data.dropna(subset=['Rating', 'Rating Count', 'Installs', 'Size', 'Minimum Android','Released'], inplace=True)\n",
    "reduced_dim = app_data.shape"
   ]
  },
  {
   "cell_type": "markdown",
   "id": "XQrXwpUCLKcb",
   "metadata": {
    "id": "XQrXwpUCLKcb"
   },
   "source": [
    "Preprocessing Content Rating\n",
    "Mature 17+      => Adult, \n",
    "Adults only 18+ => Adult, \n",
    "Everyone 10+    => Everyone"
   ]
  },
  {
   "cell_type": "code",
   "execution_count": 102,
   "id": "y35d4sHXLKcc",
   "metadata": {
    "colab": {
     "base_uri": "https://localhost:8080/"
    },
    "id": "y35d4sHXLKcc",
    "outputId": "c207aae1-10a9-4a7d-e291-ea3357bc7e0a"
   },
   "outputs": [
    {
     "data": {
      "text/plain": [
       "Everyone    1986881\n",
       "Teen         189794\n",
       "Mature        58527\n",
       "Adults          129\n",
       "Name: Content Rating, dtype: int64"
      ]
     },
     "execution_count": 102,
     "metadata": {},
     "output_type": "execute_result"
    }
   ],
   "source": [
    "app_data['Content Rating'].value_counts()"
   ]
  },
  {
   "cell_type": "code",
   "execution_count": 126,
   "id": "Sh9rNeIaLKcd",
   "metadata": {
    "id": "Sh9rNeIaLKcd"
   },
   "outputs": [],
   "source": [
    "app_data['Content Rating'] = app_data['Content Rating'].replace('Unrated',\"Everyone\")\n",
    "\n",
    "#Cleaning other values just to include Everyone, Teens and Adult \n",
    "\n",
    "app_data['Content Rating'] = app_data['Content Rating'].replace('Mature 17+',\"Adults\")\n",
    "app_data['Content Rating'] = app_data['Content Rating'].replace('Adults only 18+',\"Adults\")\n",
    "app_data['Content Rating'] = app_data['Content Rating'].replace('Everyone 10+',\"Everyone\")"
   ]
  },
  {
   "cell_type": "markdown",
   "id": "FcDz70P-LKcd",
   "metadata": {
    "id": "FcDz70P-LKcd"
   },
   "source": [
    "Preprocessing Content Installs\n",
    "replaced commmas with no space & dropped + s"
   ]
  },
  {
   "cell_type": "code",
   "execution_count": 127,
   "id": "Fh2YCd6ILKce",
   "metadata": {
    "id": "Fh2YCd6ILKce"
   },
   "outputs": [
    {
     "name": "stderr",
     "output_type": "stream",
     "text": [
      "/var/folders/z6/589dnrx92014vt29m3134f4h0000gn/T/ipykernel_52794/1456762260.py:2: FutureWarning: The default value of regex will change from True to False in a future version. In addition, single character regular expressions will *not* be treated as literal strings when regex=True.\n",
      "  app_data.Installs = app_data.Installs.str.replace('+','')\n"
     ]
    }
   ],
   "source": [
    "app_data.Installs = app_data.Installs.str.replace(',','')\n",
    "app_data.Installs = app_data.Installs.str.replace('+','')"
   ]
  },
  {
   "cell_type": "code",
   "execution_count": 128,
   "id": "xb7KEaPNLKce",
   "metadata": {
    "id": "xb7KEaPNLKce"
   },
   "outputs": [],
   "source": [
    "app_data['Installs'] = pd.to_numeric(app_data['Installs'])\n",
    "app_data['Installs'] = app_data.apply( lambda row: math.log2(row.Installs+1), axis = 1)"
   ]
  },
  {
   "cell_type": "code",
   "execution_count": 78,
   "id": "2L-f5IVeLKce",
   "metadata": {
    "colab": {
     "base_uri": "https://localhost:8080/",
     "height": 417
    },
    "id": "2L-f5IVeLKce",
    "outputId": "6258a627-ceff-4afa-e7fd-56e9d90f7810"
   },
   "outputs": [
    {
     "data": {
      "text/html": [
       "<div>\n",
       "<style scoped>\n",
       "    .dataframe tbody tr th:only-of-type {\n",
       "        vertical-align: middle;\n",
       "    }\n",
       "\n",
       "    .dataframe tbody tr th {\n",
       "        vertical-align: top;\n",
       "    }\n",
       "\n",
       "    .dataframe thead th {\n",
       "        text-align: right;\n",
       "    }\n",
       "</style>\n",
       "<table border=\"1\" class=\"dataframe\">\n",
       "  <thead>\n",
       "    <tr style=\"text-align: right;\">\n",
       "      <th></th>\n",
       "      <th>App Name</th>\n",
       "      <th>Category</th>\n",
       "      <th>Rating</th>\n",
       "      <th>Rating Count</th>\n",
       "      <th>Installs</th>\n",
       "      <th>Minimum Installs</th>\n",
       "      <th>Maximum Installs</th>\n",
       "      <th>Free</th>\n",
       "      <th>Size</th>\n",
       "      <th>Minimum Android</th>\n",
       "      <th>Released</th>\n",
       "      <th>Last Updated</th>\n",
       "      <th>Content Rating</th>\n",
       "      <th>Ad Supported</th>\n",
       "      <th>In App Purchases</th>\n",
       "    </tr>\n",
       "  </thead>\n",
       "  <tbody>\n",
       "    <tr>\n",
       "      <th>0</th>\n",
       "      <td>Gakondo</td>\n",
       "      <td>Adventure</td>\n",
       "      <td>0.0</td>\n",
       "      <td>0.0</td>\n",
       "      <td>3.459432</td>\n",
       "      <td>10.0</td>\n",
       "      <td>15</td>\n",
       "      <td>True</td>\n",
       "      <td>10M</td>\n",
       "      <td>7.1 and up</td>\n",
       "      <td>Feb 26, 2020</td>\n",
       "      <td>Feb 26, 2020</td>\n",
       "      <td>Everyone</td>\n",
       "      <td>False</td>\n",
       "      <td>False</td>\n",
       "    </tr>\n",
       "    <tr>\n",
       "      <th>1</th>\n",
       "      <td>Ampere Battery Info</td>\n",
       "      <td>Tools</td>\n",
       "      <td>4.4</td>\n",
       "      <td>64.0</td>\n",
       "      <td>12.288001</td>\n",
       "      <td>5000.0</td>\n",
       "      <td>7662</td>\n",
       "      <td>True</td>\n",
       "      <td>2.9M</td>\n",
       "      <td>5.0 and up</td>\n",
       "      <td>May 21, 2020</td>\n",
       "      <td>May 06, 2021</td>\n",
       "      <td>Everyone</td>\n",
       "      <td>True</td>\n",
       "      <td>False</td>\n",
       "    </tr>\n",
       "    <tr>\n",
       "      <th>2</th>\n",
       "      <td>Vibook</td>\n",
       "      <td>Productivity</td>\n",
       "      <td>0.0</td>\n",
       "      <td>0.0</td>\n",
       "      <td>5.672425</td>\n",
       "      <td>50.0</td>\n",
       "      <td>58</td>\n",
       "      <td>True</td>\n",
       "      <td>3.7M</td>\n",
       "      <td>4.0.3 and up</td>\n",
       "      <td>Aug 9, 2019</td>\n",
       "      <td>Aug 19, 2019</td>\n",
       "      <td>Everyone</td>\n",
       "      <td>False</td>\n",
       "      <td>False</td>\n",
       "    </tr>\n",
       "    <tr>\n",
       "      <th>3</th>\n",
       "      <td>Smart City Trichy Public Service Vehicles 17UC...</td>\n",
       "      <td>Communication</td>\n",
       "      <td>5.0</td>\n",
       "      <td>5.0</td>\n",
       "      <td>3.459432</td>\n",
       "      <td>10.0</td>\n",
       "      <td>19</td>\n",
       "      <td>True</td>\n",
       "      <td>1.8M</td>\n",
       "      <td>4.0.3 and up</td>\n",
       "      <td>Sep 10, 2018</td>\n",
       "      <td>Oct 13, 2018</td>\n",
       "      <td>Everyone</td>\n",
       "      <td>True</td>\n",
       "      <td>False</td>\n",
       "    </tr>\n",
       "    <tr>\n",
       "      <th>4</th>\n",
       "      <td>GROW.me</td>\n",
       "      <td>Tools</td>\n",
       "      <td>0.0</td>\n",
       "      <td>0.0</td>\n",
       "      <td>6.658211</td>\n",
       "      <td>100.0</td>\n",
       "      <td>478</td>\n",
       "      <td>True</td>\n",
       "      <td>6.2M</td>\n",
       "      <td>4.1 and up</td>\n",
       "      <td>Feb 21, 2020</td>\n",
       "      <td>Nov 12, 2018</td>\n",
       "      <td>Everyone</td>\n",
       "      <td>False</td>\n",
       "      <td>False</td>\n",
       "    </tr>\n",
       "  </tbody>\n",
       "</table>\n",
       "</div>"
      ],
      "text/plain": [
       "                                            App Name       Category  Rating  \\\n",
       "0                                            Gakondo      Adventure     0.0   \n",
       "1                                Ampere Battery Info          Tools     4.4   \n",
       "2                                             Vibook   Productivity     0.0   \n",
       "3  Smart City Trichy Public Service Vehicles 17UC...  Communication     5.0   \n",
       "4                                            GROW.me          Tools     0.0   \n",
       "\n",
       "   Rating Count   Installs  Minimum Installs  Maximum Installs  Free  Size  \\\n",
       "0           0.0   3.459432              10.0                15  True   10M   \n",
       "1          64.0  12.288001            5000.0              7662  True  2.9M   \n",
       "2           0.0   5.672425              50.0                58  True  3.7M   \n",
       "3           5.0   3.459432              10.0                19  True  1.8M   \n",
       "4           0.0   6.658211             100.0               478  True  6.2M   \n",
       "\n",
       "  Minimum Android      Released  Last Updated Content Rating  Ad Supported  \\\n",
       "0      7.1 and up  Feb 26, 2020  Feb 26, 2020       Everyone         False   \n",
       "1      5.0 and up  May 21, 2020  May 06, 2021       Everyone          True   \n",
       "2    4.0.3 and up   Aug 9, 2019  Aug 19, 2019       Everyone         False   \n",
       "3    4.0.3 and up  Sep 10, 2018  Oct 13, 2018       Everyone          True   \n",
       "4      4.1 and up  Feb 21, 2020  Nov 12, 2018       Everyone         False   \n",
       "\n",
       "   In App Purchases  \n",
       "0             False  \n",
       "1             False  \n",
       "2             False  \n",
       "3             False  \n",
       "4             False  "
      ]
     },
     "execution_count": 78,
     "metadata": {},
     "output_type": "execute_result"
    }
   ],
   "source": [
    "app_data.head()"
   ]
  },
  {
   "cell_type": "markdown",
   "id": "92jmjKHqLKcf",
   "metadata": {
    "id": "92jmjKHqLKcf"
   },
   "source": [
    "Converting app size from string to numeric"
   ]
  },
  {
   "cell_type": "code",
   "execution_count": 129,
   "id": "kNDtapQNLKcf",
   "metadata": {
    "id": "kNDtapQNLKcf"
   },
   "outputs": [],
   "source": [
    "def get_app_size( size_str):\n",
    "    if size_str == 'Varies with device':\n",
    "        return 0\n",
    "    metric_unit = size_str[-1]\n",
    "    val = float(size_str[:-1])\n",
    "    if metric_unit == 'k' or metric_unit == 'K':\n",
    "        val = val*1000.0\n",
    "    elif metric_unit == 'M':\n",
    "        val = val*1000000.0\n",
    "    elif metric_unit == 'G':\n",
    "        val = val*1000000000.0\n",
    "    else:\n",
    "        raise Exception(\" Value metric not detected {} \".format(size_str))\n",
    "    return math.log2(val)"
   ]
  },
  {
   "cell_type": "code",
   "execution_count": 130,
   "id": "JjM5xKC9LKcf",
   "metadata": {
    "id": "JjM5xKC9LKcf"
   },
   "outputs": [],
   "source": [
    "app_data.Size = app_data.Size.str.replace(',','')\n",
    "app_data['Size_Log'] = app_data.apply( lambda row: get_app_size(row.Size), axis = 1)"
   ]
  },
  {
   "cell_type": "code",
   "execution_count": 131,
   "id": "pU0YsCgVgVru",
   "metadata": {
    "id": "pU0YsCgVgVru"
   },
   "outputs": [],
   "source": [
    "def processDate(df, columnName):\n",
    "    # global df\n",
    "    df_processed =  pd.to_datetime(df[columnName], format='%b %d, %Y')\n",
    "    df_processed = pd.DataFrame(df_processed)\n",
    "\n",
    "    df_processed['year'] =  df_processed[columnName].dt.year.astype('Int64')\n",
    "    df_processed['month'] = df_processed[columnName].dt.month.astype('Int64')\n",
    "\n",
    "    df['Year '+columnName]=df_processed['year']\n",
    "    df['Month '+columnName]=df_processed['month']\n",
    "    df=df.drop([columnName], axis = 1)\n",
    "    return df"
   ]
  },
  {
   "cell_type": "code",
   "execution_count": 132,
   "id": "QwjHd_Rdgs1H",
   "metadata": {
    "id": "QwjHd_Rdgs1H"
   },
   "outputs": [],
   "source": [
    "app_data=processDate(app_data, 'Released')\n",
    "app_data=processDate(app_data, 'Last Updated')"
   ]
  },
  {
   "cell_type": "code",
   "execution_count": 83,
   "id": "cQiVQYLsgGDi",
   "metadata": {
    "colab": {
     "base_uri": "https://localhost:8080/",
     "height": 434
    },
    "id": "cQiVQYLsgGDi",
    "outputId": "7857993d-4be8-4a50-ec5a-a7d7c543ba06"
   },
   "outputs": [
    {
     "data": {
      "text/html": [
       "<div>\n",
       "<style scoped>\n",
       "    .dataframe tbody tr th:only-of-type {\n",
       "        vertical-align: middle;\n",
       "    }\n",
       "\n",
       "    .dataframe tbody tr th {\n",
       "        vertical-align: top;\n",
       "    }\n",
       "\n",
       "    .dataframe thead th {\n",
       "        text-align: right;\n",
       "    }\n",
       "</style>\n",
       "<table border=\"1\" class=\"dataframe\">\n",
       "  <thead>\n",
       "    <tr style=\"text-align: right;\">\n",
       "      <th></th>\n",
       "      <th>App Name</th>\n",
       "      <th>Category</th>\n",
       "      <th>Rating</th>\n",
       "      <th>Rating Count</th>\n",
       "      <th>Installs</th>\n",
       "      <th>Minimum Installs</th>\n",
       "      <th>Maximum Installs</th>\n",
       "      <th>Free</th>\n",
       "      <th>Size</th>\n",
       "      <th>Minimum Android</th>\n",
       "      <th>Content Rating</th>\n",
       "      <th>Ad Supported</th>\n",
       "      <th>In App Purchases</th>\n",
       "      <th>Size_Log</th>\n",
       "      <th>Year Released</th>\n",
       "      <th>Month Released</th>\n",
       "      <th>Year Last Updated</th>\n",
       "      <th>Month Last Updated</th>\n",
       "    </tr>\n",
       "  </thead>\n",
       "  <tbody>\n",
       "    <tr>\n",
       "      <th>0</th>\n",
       "      <td>Gakondo</td>\n",
       "      <td>Adventure</td>\n",
       "      <td>0.0</td>\n",
       "      <td>0.0</td>\n",
       "      <td>3.459432</td>\n",
       "      <td>10.0</td>\n",
       "      <td>15</td>\n",
       "      <td>True</td>\n",
       "      <td>10M</td>\n",
       "      <td>7.1 and up</td>\n",
       "      <td>Everyone</td>\n",
       "      <td>False</td>\n",
       "      <td>False</td>\n",
       "      <td>23.253497</td>\n",
       "      <td>2020</td>\n",
       "      <td>2</td>\n",
       "      <td>2020</td>\n",
       "      <td>2</td>\n",
       "    </tr>\n",
       "    <tr>\n",
       "      <th>1</th>\n",
       "      <td>Ampere Battery Info</td>\n",
       "      <td>Tools</td>\n",
       "      <td>4.4</td>\n",
       "      <td>64.0</td>\n",
       "      <td>12.288001</td>\n",
       "      <td>5000.0</td>\n",
       "      <td>7662</td>\n",
       "      <td>True</td>\n",
       "      <td>2.9M</td>\n",
       "      <td>5.0 and up</td>\n",
       "      <td>Everyone</td>\n",
       "      <td>True</td>\n",
       "      <td>False</td>\n",
       "      <td>21.467621</td>\n",
       "      <td>2020</td>\n",
       "      <td>5</td>\n",
       "      <td>2021</td>\n",
       "      <td>5</td>\n",
       "    </tr>\n",
       "    <tr>\n",
       "      <th>2</th>\n",
       "      <td>Vibook</td>\n",
       "      <td>Productivity</td>\n",
       "      <td>0.0</td>\n",
       "      <td>0.0</td>\n",
       "      <td>5.672425</td>\n",
       "      <td>50.0</td>\n",
       "      <td>58</td>\n",
       "      <td>True</td>\n",
       "      <td>3.7M</td>\n",
       "      <td>4.0.3 and up</td>\n",
       "      <td>Everyone</td>\n",
       "      <td>False</td>\n",
       "      <td>False</td>\n",
       "      <td>21.819094</td>\n",
       "      <td>2019</td>\n",
       "      <td>8</td>\n",
       "      <td>2019</td>\n",
       "      <td>8</td>\n",
       "    </tr>\n",
       "    <tr>\n",
       "      <th>3</th>\n",
       "      <td>Smart City Trichy Public Service Vehicles 17UC...</td>\n",
       "      <td>Communication</td>\n",
       "      <td>5.0</td>\n",
       "      <td>5.0</td>\n",
       "      <td>3.459432</td>\n",
       "      <td>10.0</td>\n",
       "      <td>19</td>\n",
       "      <td>True</td>\n",
       "      <td>1.8M</td>\n",
       "      <td>4.0.3 and up</td>\n",
       "      <td>Everyone</td>\n",
       "      <td>True</td>\n",
       "      <td>False</td>\n",
       "      <td>20.779565</td>\n",
       "      <td>2018</td>\n",
       "      <td>9</td>\n",
       "      <td>2018</td>\n",
       "      <td>10</td>\n",
       "    </tr>\n",
       "    <tr>\n",
       "      <th>4</th>\n",
       "      <td>GROW.me</td>\n",
       "      <td>Tools</td>\n",
       "      <td>0.0</td>\n",
       "      <td>0.0</td>\n",
       "      <td>6.658211</td>\n",
       "      <td>100.0</td>\n",
       "      <td>478</td>\n",
       "      <td>True</td>\n",
       "      <td>6.2M</td>\n",
       "      <td>4.1 and up</td>\n",
       "      <td>Everyone</td>\n",
       "      <td>False</td>\n",
       "      <td>False</td>\n",
       "      <td>22.563837</td>\n",
       "      <td>2020</td>\n",
       "      <td>2</td>\n",
       "      <td>2018</td>\n",
       "      <td>11</td>\n",
       "    </tr>\n",
       "  </tbody>\n",
       "</table>\n",
       "</div>"
      ],
      "text/plain": [
       "                                            App Name       Category  Rating  \\\n",
       "0                                            Gakondo      Adventure     0.0   \n",
       "1                                Ampere Battery Info          Tools     4.4   \n",
       "2                                             Vibook   Productivity     0.0   \n",
       "3  Smart City Trichy Public Service Vehicles 17UC...  Communication     5.0   \n",
       "4                                            GROW.me          Tools     0.0   \n",
       "\n",
       "   Rating Count   Installs  Minimum Installs  Maximum Installs  Free  Size  \\\n",
       "0           0.0   3.459432              10.0                15  True   10M   \n",
       "1          64.0  12.288001            5000.0              7662  True  2.9M   \n",
       "2           0.0   5.672425              50.0                58  True  3.7M   \n",
       "3           5.0   3.459432              10.0                19  True  1.8M   \n",
       "4           0.0   6.658211             100.0               478  True  6.2M   \n",
       "\n",
       "  Minimum Android Content Rating  Ad Supported  In App Purchases   Size_Log  \\\n",
       "0      7.1 and up       Everyone         False             False  23.253497   \n",
       "1      5.0 and up       Everyone          True             False  21.467621   \n",
       "2    4.0.3 and up       Everyone         False             False  21.819094   \n",
       "3    4.0.3 and up       Everyone          True             False  20.779565   \n",
       "4      4.1 and up       Everyone         False             False  22.563837   \n",
       "\n",
       "   Year Released  Month Released  Year Last Updated  Month Last Updated  \n",
       "0           2020               2               2020                   2  \n",
       "1           2020               5               2021                   5  \n",
       "2           2019               8               2019                   8  \n",
       "3           2018               9               2018                  10  \n",
       "4           2020               2               2018                  11  "
      ]
     },
     "execution_count": 83,
     "metadata": {},
     "output_type": "execute_result"
    }
   ],
   "source": [
    "app_data.head()"
   ]
  },
  {
   "cell_type": "code",
   "execution_count": 84,
   "id": "RL8CjQ2e5sbv",
   "metadata": {
    "colab": {
     "base_uri": "https://localhost:8080/",
     "height": 377
    },
    "id": "RL8CjQ2e5sbv",
    "outputId": "34dd011a-2779-4e2d-962c-ff2f53131bd6"
   },
   "outputs": [
    {
     "data": {
      "text/plain": [
       "<AxesSubplot:>"
      ]
     },
     "execution_count": 84,
     "metadata": {},
     "output_type": "execute_result"
    },
    {
     "data": {
      "image/png": "[encoded data removed]",
      "text/plain": [
       "<Figure size 432x288 with 2 Axes>"
      ]
     },
     "metadata": {
      "needs_background": "light"
     },
     "output_type": "display_data"
    }
   ],
   "source": [
    "Var_Corr = app_data.corr()\n",
    "sns.heatmap(Var_Corr, xticklabels=Var_Corr.columns, yticklabels=Var_Corr.columns)"
   ]
  },
  {
   "cell_type": "code",
   "execution_count": 85,
   "id": "Kq87oxTPLKcf",
   "metadata": {
    "id": "Kq87oxTPLKcf"
   },
   "outputs": [],
   "source": [
    "def get_version_value( version):\n",
    "    if version == 'up':\n",
    "        return 11\n",
    "    if version[-1] == 'W':\n",
    "        version = version[:-1]\n",
    "    version = version.split('.')\n",
    "    version.append('0')\n",
    "    return float(\"{}.{}\".format(version[0], version[1]))"
   ]
  },
  {
   "cell_type": "code",
   "execution_count": 86,
   "id": "QPZ3i7Z3LKcg",
   "metadata": {
    "id": "QPZ3i7Z3LKcg"
   },
   "outputs": [],
   "source": [
    "def get_min_version( version):\n",
    "    if version == 'Varies with device':\n",
    "        return 0\n",
    "    elif '-' in version:\n",
    "        arr = version.split('-')\n",
    "        return get_version_value(arr[0].strip())\n",
    "    elif 'and' in version:\n",
    "        arr = version.split('and')\n",
    "        return get_version_value(arr[0].strip())\n",
    "    return get_version_value( version)"
   ]
  },
  {
   "cell_type": "code",
   "execution_count": 87,
   "id": "nWwiTBTcLKcg",
   "metadata": {
    "id": "nWwiTBTcLKcg"
   },
   "outputs": [],
   "source": [
    "def get_max_version( version):\n",
    "    if version == 'Varies with device':\n",
    "        return 11\n",
    "    elif '-' in version:\n",
    "        arr = version.split('-')\n",
    "        return get_version_value(arr[1].strip())\n",
    "    elif 'and' in version:\n",
    "        arr = version.split('and')\n",
    "        return get_version_value(arr[1].strip())\n",
    "    return get_version_value( version)"
   ]
  },
  {
   "cell_type": "code",
   "execution_count": 133,
   "id": "49f84d27",
   "metadata": {
    "id": "ASevHkPbLKcg"
   },
   "outputs": [],
   "source": [
    "app_data['Min_Version'] = app_data.apply( lambda row: get_min_version(row['Minimum Android']), axis = 1)\n",
    "app_data['Max_Version'] = app_data.apply( lambda row: get_max_version(row['Minimum Android']), axis = 1)"
   ]
  },
  {
   "cell_type": "code",
   "execution_count": 134,
   "id": "e333939a",
   "metadata": {},
   "outputs": [
    {
     "data": {
      "text/html": [
       "<div>\n",
       "<style scoped>\n",
       "    .dataframe tbody tr th:only-of-type {\n",
       "        vertical-align: middle;\n",
       "    }\n",
       "\n",
       "    .dataframe tbody tr th {\n",
       "        vertical-align: top;\n",
       "    }\n",
       "\n",
       "    .dataframe thead th {\n",
       "        text-align: right;\n",
       "    }\n",
       "</style>\n",
       "<table border=\"1\" class=\"dataframe\">\n",
       "  <thead>\n",
       "    <tr style=\"text-align: right;\">\n",
       "      <th></th>\n",
       "      <th>App Name</th>\n",
       "      <th>Category</th>\n",
       "      <th>Rating</th>\n",
       "      <th>Rating Count</th>\n",
       "      <th>Installs</th>\n",
       "      <th>Minimum Installs</th>\n",
       "      <th>Maximum Installs</th>\n",
       "      <th>Free</th>\n",
       "      <th>Size</th>\n",
       "      <th>Minimum Android</th>\n",
       "      <th>Content Rating</th>\n",
       "      <th>Ad Supported</th>\n",
       "      <th>In App Purchases</th>\n",
       "      <th>Size_Log</th>\n",
       "      <th>Year Released</th>\n",
       "      <th>Month Released</th>\n",
       "      <th>Year Last Updated</th>\n",
       "      <th>Month Last Updated</th>\n",
       "      <th>Min_Version</th>\n",
       "      <th>Max_Version</th>\n",
       "    </tr>\n",
       "  </thead>\n",
       "  <tbody>\n",
       "    <tr>\n",
       "      <th>0</th>\n",
       "      <td>Gakondo</td>\n",
       "      <td>Adventure</td>\n",
       "      <td>0.0</td>\n",
       "      <td>0.0</td>\n",
       "      <td>3.459432</td>\n",
       "      <td>10.0</td>\n",
       "      <td>15</td>\n",
       "      <td>True</td>\n",
       "      <td>10M</td>\n",
       "      <td>7.1 and up</td>\n",
       "      <td>Everyone</td>\n",
       "      <td>False</td>\n",
       "      <td>False</td>\n",
       "      <td>23.253497</td>\n",
       "      <td>2020</td>\n",
       "      <td>2</td>\n",
       "      <td>2020</td>\n",
       "      <td>2</td>\n",
       "      <td>7.1</td>\n",
       "      <td>11.0</td>\n",
       "    </tr>\n",
       "    <tr>\n",
       "      <th>1</th>\n",
       "      <td>Ampere Battery Info</td>\n",
       "      <td>Tools</td>\n",
       "      <td>4.4</td>\n",
       "      <td>64.0</td>\n",
       "      <td>12.288001</td>\n",
       "      <td>5000.0</td>\n",
       "      <td>7662</td>\n",
       "      <td>True</td>\n",
       "      <td>2.9M</td>\n",
       "      <td>5.0 and up</td>\n",
       "      <td>Everyone</td>\n",
       "      <td>True</td>\n",
       "      <td>False</td>\n",
       "      <td>21.467621</td>\n",
       "      <td>2020</td>\n",
       "      <td>5</td>\n",
       "      <td>2021</td>\n",
       "      <td>5</td>\n",
       "      <td>5.0</td>\n",
       "      <td>11.0</td>\n",
       "    </tr>\n",
       "    <tr>\n",
       "      <th>2</th>\n",
       "      <td>Vibook</td>\n",
       "      <td>Productivity</td>\n",
       "      <td>0.0</td>\n",
       "      <td>0.0</td>\n",
       "      <td>5.672425</td>\n",
       "      <td>50.0</td>\n",
       "      <td>58</td>\n",
       "      <td>True</td>\n",
       "      <td>3.7M</td>\n",
       "      <td>4.0.3 and up</td>\n",
       "      <td>Everyone</td>\n",
       "      <td>False</td>\n",
       "      <td>False</td>\n",
       "      <td>21.819094</td>\n",
       "      <td>2019</td>\n",
       "      <td>8</td>\n",
       "      <td>2019</td>\n",
       "      <td>8</td>\n",
       "      <td>4.0</td>\n",
       "      <td>11.0</td>\n",
       "    </tr>\n",
       "    <tr>\n",
       "      <th>3</th>\n",
       "      <td>Smart City Trichy Public Service Vehicles 17UC...</td>\n",
       "      <td>Communication</td>\n",
       "      <td>5.0</td>\n",
       "      <td>5.0</td>\n",
       "      <td>3.459432</td>\n",
       "      <td>10.0</td>\n",
       "      <td>19</td>\n",
       "      <td>True</td>\n",
       "      <td>1.8M</td>\n",
       "      <td>4.0.3 and up</td>\n",
       "      <td>Everyone</td>\n",
       "      <td>True</td>\n",
       "      <td>False</td>\n",
       "      <td>20.779565</td>\n",
       "      <td>2018</td>\n",
       "      <td>9</td>\n",
       "      <td>2018</td>\n",
       "      <td>10</td>\n",
       "      <td>4.0</td>\n",
       "      <td>11.0</td>\n",
       "    </tr>\n",
       "    <tr>\n",
       "      <th>4</th>\n",
       "      <td>GROW.me</td>\n",
       "      <td>Tools</td>\n",
       "      <td>0.0</td>\n",
       "      <td>0.0</td>\n",
       "      <td>6.658211</td>\n",
       "      <td>100.0</td>\n",
       "      <td>478</td>\n",
       "      <td>True</td>\n",
       "      <td>6.2M</td>\n",
       "      <td>4.1 and up</td>\n",
       "      <td>Everyone</td>\n",
       "      <td>False</td>\n",
       "      <td>False</td>\n",
       "      <td>22.563837</td>\n",
       "      <td>2020</td>\n",
       "      <td>2</td>\n",
       "      <td>2018</td>\n",
       "      <td>11</td>\n",
       "      <td>4.1</td>\n",
       "      <td>11.0</td>\n",
       "    </tr>\n",
       "  </tbody>\n",
       "</table>\n",
       "</div>"
      ],
      "text/plain": [
       "                                            App Name       Category  Rating  \\\n",
       "0                                            Gakondo      Adventure     0.0   \n",
       "1                                Ampere Battery Info          Tools     4.4   \n",
       "2                                             Vibook   Productivity     0.0   \n",
       "3  Smart City Trichy Public Service Vehicles 17UC...  Communication     5.0   \n",
       "4                                            GROW.me          Tools     0.0   \n",
       "\n",
       "   Rating Count   Installs  Minimum Installs  Maximum Installs  Free  Size  \\\n",
       "0           0.0   3.459432              10.0                15  True   10M   \n",
       "1          64.0  12.288001            5000.0              7662  True  2.9M   \n",
       "2           0.0   5.672425              50.0                58  True  3.7M   \n",
       "3           5.0   3.459432              10.0                19  True  1.8M   \n",
       "4           0.0   6.658211             100.0               478  True  6.2M   \n",
       "\n",
       "  Minimum Android Content Rating  Ad Supported  In App Purchases   Size_Log  \\\n",
       "0      7.1 and up       Everyone         False             False  23.253497   \n",
       "1      5.0 and up       Everyone          True             False  21.467621   \n",
       "2    4.0.3 and up       Everyone         False             False  21.819094   \n",
       "3    4.0.3 and up       Everyone          True             False  20.779565   \n",
       "4      4.1 and up       Everyone         False             False  22.563837   \n",
       "\n",
       "   Year Released  Month Released  Year Last Updated  Month Last Updated  \\\n",
       "0           2020               2               2020                   2   \n",
       "1           2020               5               2021                   5   \n",
       "2           2019               8               2019                   8   \n",
       "3           2018               9               2018                  10   \n",
       "4           2020               2               2018                  11   \n",
       "\n",
       "   Min_Version  Max_Version  \n",
       "0          7.1         11.0  \n",
       "1          5.0         11.0  \n",
       "2          4.0         11.0  \n",
       "3          4.0         11.0  \n",
       "4          4.1         11.0  "
      ]
     },
     "execution_count": 134,
     "metadata": {},
     "output_type": "execute_result"
    }
   ],
   "source": [
    "app_data.head()"
   ]
  },
  {
   "cell_type": "code",
   "execution_count": 135,
   "id": "888e3702",
   "metadata": {},
   "outputs": [],
   "source": [
    "app_data.drop(['Minimum Installs', 'Maximum Installs','Minimum Android'], axis=1, inplace=True)"
   ]
  },
  {
   "cell_type": "code",
   "execution_count": 136,
   "id": "9e850c10",
   "metadata": {},
   "outputs": [
    {
     "data": {
      "text/html": [
       "<div>\n",
       "<style scoped>\n",
       "    .dataframe tbody tr th:only-of-type {\n",
       "        vertical-align: middle;\n",
       "    }\n",
       "\n",
       "    .dataframe tbody tr th {\n",
       "        vertical-align: top;\n",
       "    }\n",
       "\n",
       "    .dataframe thead th {\n",
       "        text-align: right;\n",
       "    }\n",
       "</style>\n",
       "<table border=\"1\" class=\"dataframe\">\n",
       "  <thead>\n",
       "    <tr style=\"text-align: right;\">\n",
       "      <th></th>\n",
       "      <th>App Name</th>\n",
       "      <th>Category</th>\n",
       "      <th>Rating</th>\n",
       "      <th>Rating Count</th>\n",
       "      <th>Installs</th>\n",
       "      <th>Free</th>\n",
       "      <th>Size</th>\n",
       "      <th>Content Rating</th>\n",
       "      <th>Ad Supported</th>\n",
       "      <th>In App Purchases</th>\n",
       "      <th>Size_Log</th>\n",
       "      <th>Year Released</th>\n",
       "      <th>Month Released</th>\n",
       "      <th>Year Last Updated</th>\n",
       "      <th>Month Last Updated</th>\n",
       "      <th>Min_Version</th>\n",
       "      <th>Max_Version</th>\n",
       "    </tr>\n",
       "  </thead>\n",
       "  <tbody>\n",
       "    <tr>\n",
       "      <th>0</th>\n",
       "      <td>Gakondo</td>\n",
       "      <td>Adventure</td>\n",
       "      <td>0.0</td>\n",
       "      <td>0.0</td>\n",
       "      <td>3.459432</td>\n",
       "      <td>True</td>\n",
       "      <td>10M</td>\n",
       "      <td>Everyone</td>\n",
       "      <td>False</td>\n",
       "      <td>False</td>\n",
       "      <td>23.253497</td>\n",
       "      <td>2020</td>\n",
       "      <td>2</td>\n",
       "      <td>2020</td>\n",
       "      <td>2</td>\n",
       "      <td>7.1</td>\n",
       "      <td>11.0</td>\n",
       "    </tr>\n",
       "    <tr>\n",
       "      <th>1</th>\n",
       "      <td>Ampere Battery Info</td>\n",
       "      <td>Tools</td>\n",
       "      <td>4.4</td>\n",
       "      <td>64.0</td>\n",
       "      <td>12.288001</td>\n",
       "      <td>True</td>\n",
       "      <td>2.9M</td>\n",
       "      <td>Everyone</td>\n",
       "      <td>True</td>\n",
       "      <td>False</td>\n",
       "      <td>21.467621</td>\n",
       "      <td>2020</td>\n",
       "      <td>5</td>\n",
       "      <td>2021</td>\n",
       "      <td>5</td>\n",
       "      <td>5.0</td>\n",
       "      <td>11.0</td>\n",
       "    </tr>\n",
       "    <tr>\n",
       "      <th>2</th>\n",
       "      <td>Vibook</td>\n",
       "      <td>Productivity</td>\n",
       "      <td>0.0</td>\n",
       "      <td>0.0</td>\n",
       "      <td>5.672425</td>\n",
       "      <td>True</td>\n",
       "      <td>3.7M</td>\n",
       "      <td>Everyone</td>\n",
       "      <td>False</td>\n",
       "      <td>False</td>\n",
       "      <td>21.819094</td>\n",
       "      <td>2019</td>\n",
       "      <td>8</td>\n",
       "      <td>2019</td>\n",
       "      <td>8</td>\n",
       "      <td>4.0</td>\n",
       "      <td>11.0</td>\n",
       "    </tr>\n",
       "    <tr>\n",
       "      <th>3</th>\n",
       "      <td>Smart City Trichy Public Service Vehicles 17UC...</td>\n",
       "      <td>Communication</td>\n",
       "      <td>5.0</td>\n",
       "      <td>5.0</td>\n",
       "      <td>3.459432</td>\n",
       "      <td>True</td>\n",
       "      <td>1.8M</td>\n",
       "      <td>Everyone</td>\n",
       "      <td>True</td>\n",
       "      <td>False</td>\n",
       "      <td>20.779565</td>\n",
       "      <td>2018</td>\n",
       "      <td>9</td>\n",
       "      <td>2018</td>\n",
       "      <td>10</td>\n",
       "      <td>4.0</td>\n",
       "      <td>11.0</td>\n",
       "    </tr>\n",
       "    <tr>\n",
       "      <th>4</th>\n",
       "      <td>GROW.me</td>\n",
       "      <td>Tools</td>\n",
       "      <td>0.0</td>\n",
       "      <td>0.0</td>\n",
       "      <td>6.658211</td>\n",
       "      <td>True</td>\n",
       "      <td>6.2M</td>\n",
       "      <td>Everyone</td>\n",
       "      <td>False</td>\n",
       "      <td>False</td>\n",
       "      <td>22.563837</td>\n",
       "      <td>2020</td>\n",
       "      <td>2</td>\n",
       "      <td>2018</td>\n",
       "      <td>11</td>\n",
       "      <td>4.1</td>\n",
       "      <td>11.0</td>\n",
       "    </tr>\n",
       "  </tbody>\n",
       "</table>\n",
       "</div>"
      ],
      "text/plain": [
       "                                            App Name       Category  Rating  \\\n",
       "0                                            Gakondo      Adventure     0.0   \n",
       "1                                Ampere Battery Info          Tools     4.4   \n",
       "2                                             Vibook   Productivity     0.0   \n",
       "3  Smart City Trichy Public Service Vehicles 17UC...  Communication     5.0   \n",
       "4                                            GROW.me          Tools     0.0   \n",
       "\n",
       "   Rating Count   Installs  Free  Size Content Rating  Ad Supported  \\\n",
       "0           0.0   3.459432  True   10M       Everyone         False   \n",
       "1          64.0  12.288001  True  2.9M       Everyone          True   \n",
       "2           0.0   5.672425  True  3.7M       Everyone         False   \n",
       "3           5.0   3.459432  True  1.8M       Everyone          True   \n",
       "4           0.0   6.658211  True  6.2M       Everyone         False   \n",
       "\n",
       "   In App Purchases   Size_Log  Year Released  Month Released  \\\n",
       "0             False  23.253497           2020               2   \n",
       "1             False  21.467621           2020               5   \n",
       "2             False  21.819094           2019               8   \n",
       "3             False  20.779565           2018               9   \n",
       "4             False  22.563837           2020               2   \n",
       "\n",
       "   Year Last Updated  Month Last Updated  Min_Version  Max_Version  \n",
       "0               2020                   2          7.1         11.0  \n",
       "1               2021                   5          5.0         11.0  \n",
       "2               2019                   8          4.0         11.0  \n",
       "3               2018                  10          4.0         11.0  \n",
       "4               2018                  11          4.1         11.0  "
      ]
     },
     "execution_count": 136,
     "metadata": {},
     "output_type": "execute_result"
    }
   ],
   "source": [
    "app_data.head()"
   ]
  },
  {
   "cell_type": "code",
   "execution_count": 137,
   "id": "46370513",
   "metadata": {},
   "outputs": [
    {
     "data": {
      "text/plain": [
       "Category\n",
       "Action                     2.745315e+05\n",
       "Adventure                  2.272092e+05\n",
       "Arcade                     4.168088e+05\n",
       "Art & Design               1.625752e+05\n",
       "Auto & Vehicles            1.467194e+05\n",
       "Beauty                     8.803390e+04\n",
       "Board                      1.070218e+05\n",
       "Books & Reference          1.100720e+06\n",
       "Business                   9.522086e+05\n",
       "Card                       9.292120e+04\n",
       "Casino                     5.981162e+04\n",
       "Casual                     4.394518e+05\n",
       "Comics                     3.173448e+04\n",
       "Communication              3.999612e+05\n",
       "Dating                     6.567629e+04\n",
       "Education                  2.028310e+06\n",
       "Educational                1.980483e+05\n",
       "Entertainment              1.326703e+06\n",
       "Events                     8.335861e+04\n",
       "Finance                    5.830247e+05\n",
       "Food & Drink               4.853545e+05\n",
       "Health & Fitness           6.174226e+05\n",
       "House & Home               1.036823e+05\n",
       "Libraries & Demo           4.128525e+04\n",
       "Lifestyle                  9.702998e+05\n",
       "Maps & Navigation          2.262658e+05\n",
       "Medical                    2.466413e+05\n",
       "Music                      4.423636e+04\n",
       "Music & Audio              1.331586e+06\n",
       "News & Magazines           3.825922e+05\n",
       "Parenting                  3.540550e+04\n",
       "Personalization            9.134222e+05\n",
       "Photography                3.874962e+05\n",
       "Productivity               6.203573e+05\n",
       "Puzzle                     4.705083e+05\n",
       "Racing                     1.204903e+05\n",
       "Role Playing               1.185088e+05\n",
       "Shopping                   5.433758e+05\n",
       "Simulation                 2.992641e+05\n",
       "Social                     3.807481e+05\n",
       "Sports                     4.282380e+05\n",
       "Strategy                   8.556979e+04\n",
       "Tools                      1.321980e+06\n",
       "Travel & Local             5.297036e+05\n",
       "Trivia                     1.076524e+05\n",
       "Video Players & Editors    1.639532e+05\n",
       "Weather                    8.143510e+04\n",
       "Word                       8.676407e+04\n",
       "Name: Installs, dtype: float64"
      ]
     },
     "execution_count": 137,
     "metadata": {},
     "output_type": "execute_result"
    }
   ],
   "source": [
    "category_install = app_data.groupby(['Category'])['Installs'].agg('sum')\n",
    "category_install"
   ]
  },
  {
   "cell_type": "code",
   "execution_count": 122,
   "id": "43d7d627",
   "metadata": {},
   "outputs": [
    {
     "data": {
      "text/html": [
       "<div>\n",
       "<style scoped>\n",
       "    .dataframe tbody tr th:only-of-type {\n",
       "        vertical-align: middle;\n",
       "    }\n",
       "\n",
       "    .dataframe tbody tr th {\n",
       "        vertical-align: top;\n",
       "    }\n",
       "\n",
       "    .dataframe thead th {\n",
       "        text-align: right;\n",
       "    }\n",
       "</style>\n",
       "<table border=\"1\" class=\"dataframe\">\n",
       "  <thead>\n",
       "    <tr style=\"text-align: right;\">\n",
       "      <th></th>\n",
       "      <th>App Name</th>\n",
       "      <th>Category</th>\n",
       "      <th>Rating</th>\n",
       "      <th>Rating Count</th>\n",
       "      <th>Installs</th>\n",
       "      <th>Free</th>\n",
       "      <th>Size</th>\n",
       "      <th>Content Rating</th>\n",
       "      <th>Ad Supported</th>\n",
       "      <th>In App Purchases</th>\n",
       "      <th>Size_Log</th>\n",
       "      <th>Year Released</th>\n",
       "      <th>Month Released</th>\n",
       "      <th>Year Last Updated</th>\n",
       "      <th>Month Last Updated</th>\n",
       "      <th>Min_Version</th>\n",
       "      <th>Max_Version</th>\n",
       "    </tr>\n",
       "  </thead>\n",
       "  <tbody>\n",
       "    <tr>\n",
       "      <th>0</th>\n",
       "      <td>Gakondo</td>\n",
       "      <td>0</td>\n",
       "      <td>0.0</td>\n",
       "      <td>0.0</td>\n",
       "      <td>3.459432</td>\n",
       "      <td>0</td>\n",
       "      <td>10M</td>\n",
       "      <td>0</td>\n",
       "      <td>0</td>\n",
       "      <td>0</td>\n",
       "      <td>23.253497</td>\n",
       "      <td>2020</td>\n",
       "      <td>2</td>\n",
       "      <td>2020</td>\n",
       "      <td>2</td>\n",
       "      <td>7.1</td>\n",
       "      <td>11.0</td>\n",
       "    </tr>\n",
       "    <tr>\n",
       "      <th>1</th>\n",
       "      <td>Ampere Battery Info</td>\n",
       "      <td>1</td>\n",
       "      <td>4.4</td>\n",
       "      <td>64.0</td>\n",
       "      <td>12.288001</td>\n",
       "      <td>0</td>\n",
       "      <td>2.9M</td>\n",
       "      <td>0</td>\n",
       "      <td>1</td>\n",
       "      <td>0</td>\n",
       "      <td>21.467621</td>\n",
       "      <td>2020</td>\n",
       "      <td>5</td>\n",
       "      <td>2021</td>\n",
       "      <td>5</td>\n",
       "      <td>5.0</td>\n",
       "      <td>11.0</td>\n",
       "    </tr>\n",
       "    <tr>\n",
       "      <th>2</th>\n",
       "      <td>Vibook</td>\n",
       "      <td>2</td>\n",
       "      <td>0.0</td>\n",
       "      <td>0.0</td>\n",
       "      <td>5.672425</td>\n",
       "      <td>0</td>\n",
       "      <td>3.7M</td>\n",
       "      <td>0</td>\n",
       "      <td>0</td>\n",
       "      <td>0</td>\n",
       "      <td>21.819094</td>\n",
       "      <td>2019</td>\n",
       "      <td>8</td>\n",
       "      <td>2019</td>\n",
       "      <td>8</td>\n",
       "      <td>4.0</td>\n",
       "      <td>11.0</td>\n",
       "    </tr>\n",
       "    <tr>\n",
       "      <th>3</th>\n",
       "      <td>Smart City Trichy Public Service Vehicles 17UC...</td>\n",
       "      <td>3</td>\n",
       "      <td>5.0</td>\n",
       "      <td>5.0</td>\n",
       "      <td>3.459432</td>\n",
       "      <td>0</td>\n",
       "      <td>1.8M</td>\n",
       "      <td>0</td>\n",
       "      <td>1</td>\n",
       "      <td>0</td>\n",
       "      <td>20.779565</td>\n",
       "      <td>2018</td>\n",
       "      <td>9</td>\n",
       "      <td>2018</td>\n",
       "      <td>10</td>\n",
       "      <td>4.0</td>\n",
       "      <td>11.0</td>\n",
       "    </tr>\n",
       "    <tr>\n",
       "      <th>4</th>\n",
       "      <td>GROW.me</td>\n",
       "      <td>1</td>\n",
       "      <td>0.0</td>\n",
       "      <td>0.0</td>\n",
       "      <td>6.658211</td>\n",
       "      <td>0</td>\n",
       "      <td>6.2M</td>\n",
       "      <td>0</td>\n",
       "      <td>0</td>\n",
       "      <td>0</td>\n",
       "      <td>22.563837</td>\n",
       "      <td>2020</td>\n",
       "      <td>2</td>\n",
       "      <td>2018</td>\n",
       "      <td>11</td>\n",
       "      <td>4.1</td>\n",
       "      <td>11.0</td>\n",
       "    </tr>\n",
       "  </tbody>\n",
       "</table>\n",
       "</div>"
      ],
      "text/plain": [
       "                                            App Name  Category  Rating  \\\n",
       "0                                            Gakondo         0     0.0   \n",
       "1                                Ampere Battery Info         1     4.4   \n",
       "2                                             Vibook         2     0.0   \n",
       "3  Smart City Trichy Public Service Vehicles 17UC...         3     5.0   \n",
       "4                                            GROW.me         1     0.0   \n",
       "\n",
       "   Rating Count   Installs  Free  Size  Content Rating  Ad Supported  \\\n",
       "0           0.0   3.459432     0   10M               0             0   \n",
       "1          64.0  12.288001     0  2.9M               0             1   \n",
       "2           0.0   5.672425     0  3.7M               0             0   \n",
       "3           5.0   3.459432     0  1.8M               0             1   \n",
       "4           0.0   6.658211     0  6.2M               0             0   \n",
       "\n",
       "   In App Purchases   Size_Log  Year Released  Month Released  \\\n",
       "0                 0  23.253497           2020               2   \n",
       "1                 0  21.467621           2020               5   \n",
       "2                 0  21.819094           2019               8   \n",
       "3                 0  20.779565           2018               9   \n",
       "4                 0  22.563837           2020               2   \n",
       "\n",
       "   Year Last Updated  Month Last Updated  Min_Version  Max_Version  \n",
       "0               2020                   2          7.1         11.0  \n",
       "1               2021                   5          5.0         11.0  \n",
       "2               2019                   8          4.0         11.0  \n",
       "3               2018                  10          4.0         11.0  \n",
       "4               2018                  11          4.1         11.0  "
      ]
     },
     "execution_count": 122,
     "metadata": {},
     "output_type": "execute_result"
    }
   ],
   "source": [
    "app_data.head()"
   ]
  },
  {
   "cell_type": "code",
   "execution_count": 138,
   "id": "b9884cca",
   "metadata": {},
   "outputs": [
    {
     "name": "stderr",
     "output_type": "stream",
     "text": [
      "/Library/Frameworks/Python.framework/Versions/3.9/lib/python3.9/site-packages/seaborn/_decorators.py:36: FutureWarning: Pass the following variables as keyword args: x, y. From version 0.12, the only valid positional argument will be `data`, and passing other arguments without an explicit keyword will result in an error or misinterpretation.\n",
      "  warnings.warn(\n"
     ]
    },
    {
     "data": {
      "image/png": "[encoded data removed]",
      "text/plain": [
       "<Figure size 1440x1080 with 1 Axes>"
      ]
     },
     "metadata": {
      "needs_background": "light"
     },
     "output_type": "display_data"
    }
   ],
   "source": [
    "plt.figure(figsize=(20,15))\n",
    "sns.barplot(category_install.index, category_install.values)\n",
    "plt.title('Number of Installs Per Category')\n",
    "plt.xlabel('Category')\n",
    "plt.ylabel('Installs')\n",
    "plt.xticks(rotation=45,ha='right');"
   ]
  },
  {
   "cell_type": "code",
   "execution_count": 139,
   "id": "2790badd",
   "metadata": {},
   "outputs": [
    {
     "name": "stderr",
     "output_type": "stream",
     "text": [
      "/Library/Frameworks/Python.framework/Versions/3.9/lib/python3.9/site-packages/seaborn/_decorators.py:36: FutureWarning: Pass the following variables as keyword args: x, y. From version 0.12, the only valid positional argument will be `data`, and passing other arguments without an explicit keyword will result in an error or misinterpretation.\n",
      "  warnings.warn(\n"
     ]
    },
    {
     "data": {
      "image/png": "[encoded data removed]",
      "text/plain": [
       "<Figure size 1440x1080 with 1 Axes>"
      ]
     },
     "metadata": {
      "needs_background": "light"
     },
     "output_type": "display_data"
    }
   ],
   "source": [
    "category_rating = app_data.groupby(['Category'])['Rating'].agg('mean')\n",
    "plt.figure(figsize=(20,15))\n",
    "sns.barplot(category_rating.index, category_rating.values)\n",
    "plt.title('Ratings based on Category')\n",
    "plt.xlabel('Category')\n",
    "plt.ylabel('Rating')\n",
    "plt.xticks(rotation=45,ha='right');"
   ]
  },
  {
   "cell_type": "code",
   "execution_count": 140,
   "id": "g6JrHuvy-RXG",
   "metadata": {
    "colab": {
     "base_uri": "https://localhost:8080/",
     "height": 296
    },
    "id": "g6JrHuvy-RXG",
    "outputId": "6ff13abf-c365-4050-b12d-fbf7f94722c0"
   },
   "outputs": [
    {
     "name": "stderr",
     "output_type": "stream",
     "text": [
      "/Library/Frameworks/Python.framework/Versions/3.9/lib/python3.9/site-packages/seaborn/_decorators.py:36: FutureWarning: Pass the following variables as keyword args: x, y. From version 0.12, the only valid positional argument will be `data`, and passing other arguments without an explicit keyword will result in an error or misinterpretation.\n",
      "  warnings.warn(\n"
     ]
    },
    {
     "data": {
      "text/plain": [
       "Text(0, 0.5, 'Installs')"
      ]
     },
     "execution_count": 140,
     "metadata": {},
     "output_type": "execute_result"
    },
    {
     "data": {
      "image/png": "[encoded data removed]",
      "text/plain": [
       "<Figure size 1080x1080 with 1 Axes>"
      ]
     },
     "metadata": {
      "needs_background": "light"
     },
     "output_type": "display_data"
    }
   ],
   "source": [
    "time_install = app_data.groupby(['Month Released'])['Installs'].agg('sum')\n",
    "plt.figure(figsize=(15,15))\n",
    "sns.barplot(time_install.index, time_install.values)\n",
    "plt.title('Installs based on the month released')\n",
    "plt.xlabel('Month Released')\n",
    "plt.ylabel('Installs')"
   ]
  },
  {
   "cell_type": "code",
   "execution_count": 141,
   "id": "b5179735",
   "metadata": {
    "scrolled": false
   },
   "outputs": [
    {
     "name": "stderr",
     "output_type": "stream",
     "text": [
      "/Library/Frameworks/Python.framework/Versions/3.9/lib/python3.9/site-packages/seaborn/_decorators.py:36: FutureWarning: Pass the following variables as keyword args: x, y. From version 0.12, the only valid positional argument will be `data`, and passing other arguments without an explicit keyword will result in an error or misinterpretation.\n",
      "  warnings.warn(\n"
     ]
    },
    {
     "data": {
      "text/plain": [
       "Text(0, 0.5, 'Installs')"
      ]
     },
     "execution_count": 141,
     "metadata": {},
     "output_type": "execute_result"
    },
    {
     "data": {
      "image/png": "[encoded data removed]",
      "text/plain": [
       "<Figure size 720x1080 with 1 Axes>"
      ]
     },
     "metadata": {
      "needs_background": "light"
     },
     "output_type": "display_data"
    }
   ],
   "source": [
    "CR_install = app_data.groupby(['Content Rating'])['Rating'].agg('mean')\n",
    "plt.figure(figsize=(10,15))\n",
    "sns.barplot(CR_install.index, CR_install.values)\n",
    "plt.title('Installs based on the Content Type')\n",
    "plt.xlabel('Content Rating')\n",
    "plt.ylabel('Installs')"
   ]
  },
  {
   "cell_type": "code",
   "execution_count": 35,
   "id": "hyL43lwI8Iak",
   "metadata": {
    "colab": {
     "base_uri": "https://localhost:8080/",
     "height": 296
    },
    "id": "hyL43lwI8Iak",
    "outputId": "9639ad93-0856-4c35-ad29-63758f905d42"
   },
   "outputs": [
    {
     "data": {
      "text/plain": [
       "[Text(0.5, 1.0, 'Co-relation between Install count and Rating of an App')]"
      ]
     },
     "execution_count": 35,
     "metadata": {},
     "output_type": "execute_result"
    },
    {
     "data": {
      "image/png": "[encoded data removed]",
      "text/plain": [
       "<Figure size 432x288 with 1 Axes>"
      ]
     },
     "metadata": {
      "needs_background": "light"
     },
     "output_type": "display_data"
    }
   ],
   "source": [
    "sns.lineplot(data=app_data,x='Installs',y='Rating').set(title='Co-relation between Install count and Rating of an App')"
   ]
  },
  {
   "cell_type": "markdown",
   "id": "f5cd64a6",
   "metadata": {},
   "source": [
    "Encode some of the columns as an enumerated type or categorical variable."
   ]
  },
  {
   "cell_type": "code",
   "execution_count": 142,
   "id": "v4U5L-raLKch",
   "metadata": {
    "colab": {
     "base_uri": "https://localhost:8080/",
     "height": 414
    },
    "id": "v4U5L-raLKch",
    "outputId": "c606c6df-4a3b-450f-8d5f-af4db9847d9d"
   },
   "outputs": [
    {
     "data": {
      "text/html": [
       "<div>\n",
       "<style scoped>\n",
       "    .dataframe tbody tr th:only-of-type {\n",
       "        vertical-align: middle;\n",
       "    }\n",
       "\n",
       "    .dataframe tbody tr th {\n",
       "        vertical-align: top;\n",
       "    }\n",
       "\n",
       "    .dataframe thead th {\n",
       "        text-align: right;\n",
       "    }\n",
       "</style>\n",
       "<table border=\"1\" class=\"dataframe\">\n",
       "  <thead>\n",
       "    <tr style=\"text-align: right;\">\n",
       "      <th></th>\n",
       "      <th>App Name</th>\n",
       "      <th>Category</th>\n",
       "      <th>Rating</th>\n",
       "      <th>Rating Count</th>\n",
       "      <th>Installs</th>\n",
       "      <th>Free</th>\n",
       "      <th>Size</th>\n",
       "      <th>Content Rating</th>\n",
       "      <th>Ad Supported</th>\n",
       "      <th>In App Purchases</th>\n",
       "      <th>Size_Log</th>\n",
       "      <th>Year Released</th>\n",
       "      <th>Month Released</th>\n",
       "      <th>Year Last Updated</th>\n",
       "      <th>Month Last Updated</th>\n",
       "      <th>Min_Version</th>\n",
       "      <th>Max_Version</th>\n",
       "    </tr>\n",
       "  </thead>\n",
       "  <tbody>\n",
       "    <tr>\n",
       "      <th>0</th>\n",
       "      <td>Gakondo</td>\n",
       "      <td>0</td>\n",
       "      <td>0.0</td>\n",
       "      <td>0.0</td>\n",
       "      <td>3.459432</td>\n",
       "      <td>0</td>\n",
       "      <td>10M</td>\n",
       "      <td>0</td>\n",
       "      <td>0</td>\n",
       "      <td>0</td>\n",
       "      <td>23.253497</td>\n",
       "      <td>2020</td>\n",
       "      <td>2</td>\n",
       "      <td>2020</td>\n",
       "      <td>2</td>\n",
       "      <td>7.1</td>\n",
       "      <td>11.0</td>\n",
       "    </tr>\n",
       "    <tr>\n",
       "      <th>1</th>\n",
       "      <td>Ampere Battery Info</td>\n",
       "      <td>1</td>\n",
       "      <td>4.4</td>\n",
       "      <td>64.0</td>\n",
       "      <td>12.288001</td>\n",
       "      <td>0</td>\n",
       "      <td>2.9M</td>\n",
       "      <td>0</td>\n",
       "      <td>1</td>\n",
       "      <td>0</td>\n",
       "      <td>21.467621</td>\n",
       "      <td>2020</td>\n",
       "      <td>5</td>\n",
       "      <td>2021</td>\n",
       "      <td>5</td>\n",
       "      <td>5.0</td>\n",
       "      <td>11.0</td>\n",
       "    </tr>\n",
       "    <tr>\n",
       "      <th>2</th>\n",
       "      <td>Vibook</td>\n",
       "      <td>2</td>\n",
       "      <td>0.0</td>\n",
       "      <td>0.0</td>\n",
       "      <td>5.672425</td>\n",
       "      <td>0</td>\n",
       "      <td>3.7M</td>\n",
       "      <td>0</td>\n",
       "      <td>0</td>\n",
       "      <td>0</td>\n",
       "      <td>21.819094</td>\n",
       "      <td>2019</td>\n",
       "      <td>8</td>\n",
       "      <td>2019</td>\n",
       "      <td>8</td>\n",
       "      <td>4.0</td>\n",
       "      <td>11.0</td>\n",
       "    </tr>\n",
       "    <tr>\n",
       "      <th>3</th>\n",
       "      <td>Smart City Trichy Public Service Vehicles 17UC...</td>\n",
       "      <td>3</td>\n",
       "      <td>5.0</td>\n",
       "      <td>5.0</td>\n",
       "      <td>3.459432</td>\n",
       "      <td>0</td>\n",
       "      <td>1.8M</td>\n",
       "      <td>0</td>\n",
       "      <td>1</td>\n",
       "      <td>0</td>\n",
       "      <td>20.779565</td>\n",
       "      <td>2018</td>\n",
       "      <td>9</td>\n",
       "      <td>2018</td>\n",
       "      <td>10</td>\n",
       "      <td>4.0</td>\n",
       "      <td>11.0</td>\n",
       "    </tr>\n",
       "    <tr>\n",
       "      <th>4</th>\n",
       "      <td>GROW.me</td>\n",
       "      <td>1</td>\n",
       "      <td>0.0</td>\n",
       "      <td>0.0</td>\n",
       "      <td>6.658211</td>\n",
       "      <td>0</td>\n",
       "      <td>6.2M</td>\n",
       "      <td>0</td>\n",
       "      <td>0</td>\n",
       "      <td>0</td>\n",
       "      <td>22.563837</td>\n",
       "      <td>2020</td>\n",
       "      <td>2</td>\n",
       "      <td>2018</td>\n",
       "      <td>11</td>\n",
       "      <td>4.1</td>\n",
       "      <td>11.0</td>\n",
       "    </tr>\n",
       "  </tbody>\n",
       "</table>\n",
       "</div>"
      ],
      "text/plain": [
       "                                            App Name  Category  Rating  \\\n",
       "0                                            Gakondo         0     0.0   \n",
       "1                                Ampere Battery Info         1     4.4   \n",
       "2                                             Vibook         2     0.0   \n",
       "3  Smart City Trichy Public Service Vehicles 17UC...         3     5.0   \n",
       "4                                            GROW.me         1     0.0   \n",
       "\n",
       "   Rating Count   Installs  Free  Size  Content Rating  Ad Supported  \\\n",
       "0           0.0   3.459432     0   10M               0             0   \n",
       "1          64.0  12.288001     0  2.9M               0             1   \n",
       "2           0.0   5.672425     0  3.7M               0             0   \n",
       "3           5.0   3.459432     0  1.8M               0             1   \n",
       "4           0.0   6.658211     0  6.2M               0             0   \n",
       "\n",
       "   In App Purchases   Size_Log  Year Released  Month Released  \\\n",
       "0                 0  23.253497           2020               2   \n",
       "1                 0  21.467621           2020               5   \n",
       "2                 0  21.819094           2019               8   \n",
       "3                 0  20.779565           2018               9   \n",
       "4                 0  22.563837           2020               2   \n",
       "\n",
       "   Year Last Updated  Month Last Updated  Min_Version  Max_Version  \n",
       "0               2020                   2          7.1         11.0  \n",
       "1               2021                   5          5.0         11.0  \n",
       "2               2019                   8          4.0         11.0  \n",
       "3               2018                  10          4.0         11.0  \n",
       "4               2018                  11          4.1         11.0  "
      ]
     },
     "execution_count": 142,
     "metadata": {},
     "output_type": "execute_result"
    }
   ],
   "source": [
    "app_data['Category'] = pd.factorize(app_data['Category'])[0].astype(int)\n",
    "app_data['Content Rating'] = pd.factorize(app_data['Content Rating'])[0].astype(int)\n",
    "app_data['Ad Supported'] = pd.factorize(app_data['Ad Supported'])[0].astype(int)\n",
    "app_data['In App Purchases'] = pd.factorize(app_data['In App Purchases'])[0].astype(int)\n",
    "app_data['Free'] = pd.factorize(app_data['Free'])[0].astype(int)\n",
    "app_data.head()"
   ]
  },
  {
   "cell_type": "code",
   "execution_count": 143,
   "id": "bjkwdJK6LKch",
   "metadata": {
    "colab": {
     "base_uri": "https://localhost:8080/"
    },
    "id": "bjkwdJK6LKch",
    "outputId": "0d99291c-8fdb-4a9f-a8f2-950d35bf4cb6"
   },
   "outputs": [
    {
     "name": "stdout",
     "output_type": "stream",
     "text": [
      "[0. 4. 0. 5. 0. 0. 4. 2. 5. 5.]\n"
     ]
    }
   ],
   "source": [
    "y = app_data['Rating'].values.round()\n",
    "print(y[0:10])"
   ]
  },
  {
   "cell_type": "code",
   "execution_count": 144,
   "id": "RujmLsEnLKch",
   "metadata": {
    "colab": {
     "base_uri": "https://localhost:8080/",
     "height": 206
    },
    "id": "RujmLsEnLKch",
    "outputId": "668fdbe2-6375-4fb4-d7f6-b72350c09891"
   },
   "outputs": [
    {
     "data": {
      "text/html": [
       "<div>\n",
       "<style scoped>\n",
       "    .dataframe tbody tr th:only-of-type {\n",
       "        vertical-align: middle;\n",
       "    }\n",
       "\n",
       "    .dataframe tbody tr th {\n",
       "        vertical-align: top;\n",
       "    }\n",
       "\n",
       "    .dataframe thead th {\n",
       "        text-align: right;\n",
       "    }\n",
       "</style>\n",
       "<table border=\"1\" class=\"dataframe\">\n",
       "  <thead>\n",
       "    <tr style=\"text-align: right;\">\n",
       "      <th></th>\n",
       "      <th>Category</th>\n",
       "      <th>Installs</th>\n",
       "      <th>Free</th>\n",
       "      <th>Content Rating</th>\n",
       "      <th>Ad Supported</th>\n",
       "      <th>In App Purchases</th>\n",
       "      <th>Size_Log</th>\n",
       "      <th>Min_Version</th>\n",
       "      <th>Max_Version</th>\n",
       "    </tr>\n",
       "  </thead>\n",
       "  <tbody>\n",
       "    <tr>\n",
       "      <th>0</th>\n",
       "      <td>0</td>\n",
       "      <td>3.459432</td>\n",
       "      <td>0</td>\n",
       "      <td>0</td>\n",
       "      <td>0</td>\n",
       "      <td>0</td>\n",
       "      <td>23.253497</td>\n",
       "      <td>7.1</td>\n",
       "      <td>11.0</td>\n",
       "    </tr>\n",
       "    <tr>\n",
       "      <th>1</th>\n",
       "      <td>1</td>\n",
       "      <td>12.288001</td>\n",
       "      <td>0</td>\n",
       "      <td>0</td>\n",
       "      <td>1</td>\n",
       "      <td>0</td>\n",
       "      <td>21.467621</td>\n",
       "      <td>5.0</td>\n",
       "      <td>11.0</td>\n",
       "    </tr>\n",
       "    <tr>\n",
       "      <th>2</th>\n",
       "      <td>2</td>\n",
       "      <td>5.672425</td>\n",
       "      <td>0</td>\n",
       "      <td>0</td>\n",
       "      <td>0</td>\n",
       "      <td>0</td>\n",
       "      <td>21.819094</td>\n",
       "      <td>4.0</td>\n",
       "      <td>11.0</td>\n",
       "    </tr>\n",
       "    <tr>\n",
       "      <th>3</th>\n",
       "      <td>3</td>\n",
       "      <td>3.459432</td>\n",
       "      <td>0</td>\n",
       "      <td>0</td>\n",
       "      <td>1</td>\n",
       "      <td>0</td>\n",
       "      <td>20.779565</td>\n",
       "      <td>4.0</td>\n",
       "      <td>11.0</td>\n",
       "    </tr>\n",
       "    <tr>\n",
       "      <th>4</th>\n",
       "      <td>1</td>\n",
       "      <td>6.658211</td>\n",
       "      <td>0</td>\n",
       "      <td>0</td>\n",
       "      <td>0</td>\n",
       "      <td>0</td>\n",
       "      <td>22.563837</td>\n",
       "      <td>4.1</td>\n",
       "      <td>11.0</td>\n",
       "    </tr>\n",
       "  </tbody>\n",
       "</table>\n",
       "</div>"
      ],
      "text/plain": [
       "   Category   Installs  Free  Content Rating  Ad Supported  In App Purchases  \\\n",
       "0         0   3.459432     0               0             0                 0   \n",
       "1         1  12.288001     0               0             1                 0   \n",
       "2         2   5.672425     0               0             0                 0   \n",
       "3         3   3.459432     0               0             1                 0   \n",
       "4         1   6.658211     0               0             0                 0   \n",
       "\n",
       "    Size_Log  Min_Version  Max_Version  \n",
       "0  23.253497          7.1         11.0  \n",
       "1  21.467621          5.0         11.0  \n",
       "2  21.819094          4.0         11.0  \n",
       "3  20.779565          4.0         11.0  \n",
       "4  22.563837          4.1         11.0  "
      ]
     },
     "execution_count": 144,
     "metadata": {},
     "output_type": "execute_result"
    }
   ],
   "source": [
    "X = app_data.drop(['App Name', 'Rating', 'Rating Count', 'Size', 'Year Released', 'Month Released', 'Year Last Updated','Month Last Updated'], axis=1)\n",
    "X.head()"
   ]
  },
  {
   "cell_type": "code",
   "execution_count": 145,
   "id": "GtpI8TzeLKch",
   "metadata": {
    "colab": {
     "base_uri": "https://localhost:8080/",
     "height": 206
    },
    "id": "GtpI8TzeLKch",
    "outputId": "000bd277-bafa-4f72-ae4b-a7d9943a0282"
   },
   "outputs": [
    {
     "data": {
      "text/html": [
       "<div>\n",
       "<style scoped>\n",
       "    .dataframe tbody tr th:only-of-type {\n",
       "        vertical-align: middle;\n",
       "    }\n",
       "\n",
       "    .dataframe tbody tr th {\n",
       "        vertical-align: top;\n",
       "    }\n",
       "\n",
       "    .dataframe thead th {\n",
       "        text-align: right;\n",
       "    }\n",
       "</style>\n",
       "<table border=\"1\" class=\"dataframe\">\n",
       "  <thead>\n",
       "    <tr style=\"text-align: right;\">\n",
       "      <th></th>\n",
       "      <th>Category</th>\n",
       "      <th>Installs</th>\n",
       "      <th>Free</th>\n",
       "      <th>Content Rating</th>\n",
       "      <th>Ad Supported</th>\n",
       "      <th>In App Purchases</th>\n",
       "      <th>Size_Log</th>\n",
       "      <th>Min_Version</th>\n",
       "      <th>Max_Version</th>\n",
       "    </tr>\n",
       "  </thead>\n",
       "  <tbody>\n",
       "    <tr>\n",
       "      <th>0</th>\n",
       "      <td>0</td>\n",
       "      <td>-1.205850</td>\n",
       "      <td>0</td>\n",
       "      <td>0</td>\n",
       "      <td>0</td>\n",
       "      <td>0</td>\n",
       "      <td>0.114331</td>\n",
       "      <td>2.903848</td>\n",
       "      <td>0.013597</td>\n",
       "    </tr>\n",
       "    <tr>\n",
       "      <th>1</th>\n",
       "      <td>1</td>\n",
       "      <td>0.745363</td>\n",
       "      <td>0</td>\n",
       "      <td>0</td>\n",
       "      <td>1</td>\n",
       "      <td>0</td>\n",
       "      <td>-0.349857</td>\n",
       "      <td>0.725563</td>\n",
       "      <td>0.013597</td>\n",
       "    </tr>\n",
       "    <tr>\n",
       "      <th>2</th>\n",
       "      <td>2</td>\n",
       "      <td>-0.716754</td>\n",
       "      <td>0</td>\n",
       "      <td>0</td>\n",
       "      <td>0</td>\n",
       "      <td>0</td>\n",
       "      <td>-0.258501</td>\n",
       "      <td>-0.311715</td>\n",
       "      <td>0.013597</td>\n",
       "    </tr>\n",
       "    <tr>\n",
       "      <th>3</th>\n",
       "      <td>3</td>\n",
       "      <td>-1.205850</td>\n",
       "      <td>0</td>\n",
       "      <td>0</td>\n",
       "      <td>1</td>\n",
       "      <td>0</td>\n",
       "      <td>-0.528698</td>\n",
       "      <td>-0.311715</td>\n",
       "      <td>0.013597</td>\n",
       "    </tr>\n",
       "    <tr>\n",
       "      <th>4</th>\n",
       "      <td>1</td>\n",
       "      <td>-0.498884</td>\n",
       "      <td>0</td>\n",
       "      <td>0</td>\n",
       "      <td>0</td>\n",
       "      <td>0</td>\n",
       "      <td>-0.064926</td>\n",
       "      <td>-0.207987</td>\n",
       "      <td>0.013597</td>\n",
       "    </tr>\n",
       "  </tbody>\n",
       "</table>\n",
       "</div>"
      ],
      "text/plain": [
       "   Category  Installs  Free  Content Rating  Ad Supported  In App Purchases  \\\n",
       "0         0 -1.205850     0               0             0                 0   \n",
       "1         1  0.745363     0               0             1                 0   \n",
       "2         2 -0.716754     0               0             0                 0   \n",
       "3         3 -1.205850     0               0             1                 0   \n",
       "4         1 -0.498884     0               0             0                 0   \n",
       "\n",
       "   Size_Log  Min_Version  Max_Version  \n",
       "0  0.114331     2.903848     0.013597  \n",
       "1 -0.349857     0.725563     0.013597  \n",
       "2 -0.258501    -0.311715     0.013597  \n",
       "3 -0.528698    -0.311715     0.013597  \n",
       "4 -0.064926    -0.207987     0.013597  "
      ]
     },
     "execution_count": 145,
     "metadata": {},
     "output_type": "execute_result"
    }
   ],
   "source": [
    "std_scaler = StandardScaler()\n",
    "X['Installs'] = std_scaler.fit_transform(X[['Installs']])\n",
    "X['Size_Log'] = std_scaler.fit_transform(X[['Size_Log']])\n",
    "X['Min_Version'] = std_scaler.fit_transform(X[['Min_Version']])\n",
    "X['Max_Version'] = std_scaler.fit_transform(X[['Max_Version']])\n",
    "X.head()"
   ]
  },
  {
   "cell_type": "code",
   "execution_count": 146,
   "id": "W5u9Ni9_LKci",
   "metadata": {
    "id": "W5u9Ni9_LKci"
   },
   "outputs": [],
   "source": [
    "from sklearn.model_selection import train_test_split\n",
    "X_train, X_test, y_train, y_test = train_test_split(X, y, train_size = 0.8)"
   ]
  },
  {
   "cell_type": "code",
   "execution_count": 147,
   "id": "6zechmdNLKci",
   "metadata": {
    "id": "6zechmdNLKci",
    "outputId": "167b179c-6b41-49bc-9ea5-e249f9af7a86"
   },
   "outputs": [
    {
     "name": "stdout",
     "output_type": "stream",
     "text": [
      "{0.0: 827573, 3.0: 113993, 5.0: 272328, 4.0: 540987, 2.0: 31049, 1.0: 2334}\n"
     ]
    }
   ],
   "source": [
    "count = {}\n",
    "for i in y_train:\n",
    "    if i not in count:\n",
    "        count[i] = 0\n",
    "    count[i] = count[i] + 1\n",
    "print(count)"
   ]
  },
  {
   "cell_type": "code",
   "execution_count": 117,
   "id": "ylsfZCw8LKci",
   "metadata": {
    "id": "ylsfZCw8LKci",
    "outputId": "d7aa76b5-674e-45ba-b525-2ee5de79539c"
   },
   "outputs": [
    {
     "name": "stdout",
     "output_type": "stream",
     "text": [
      "Accuracy = 65.27 %\n"
     ]
    }
   ],
   "source": [
    "rf_model = RandomForestClassifier()\n",
    "rf_model.fit(X_train,y_train)\n",
    "y_pred = rf_model.predict(X_test)\n",
    "rf_acc = accuracy_score(y_pred,y_test)*100\n",
    "print(\"Accuracy =\",round(rf_acc,2),\"%\")"
   ]
  },
  {
   "cell_type": "code",
   "execution_count": 118,
   "id": "y5eeWq0dLKcj",
   "metadata": {
    "id": "y5eeWq0dLKcj",
    "outputId": "8fe9b68d-45a9-4a84-8e3f-f05a4b3052c7"
   },
   "outputs": [
    {
     "name": "stdout",
     "output_type": "stream",
     "text": [
      "Accuracy = 69.08 %\n"
     ]
    },
    {
     "name": "stderr",
     "output_type": "stream",
     "text": [
      "/Library/Frameworks/Python.framework/Versions/3.9/lib/python3.9/site-packages/sklearn/linear_model/_logistic.py:763: ConvergenceWarning: lbfgs failed to converge (status=1):\n",
      "STOP: TOTAL NO. of ITERATIONS REACHED LIMIT.\n",
      "\n",
      "Increase the number of iterations (max_iter) or scale the data as shown in:\n",
      "    https://scikit-learn.org/stable/modules/preprocessing.html\n",
      "Please also refer to the documentation for alternative solver options:\n",
      "    https://scikit-learn.org/stable/modules/linear_model.html#logistic-regression\n",
      "  n_iter_i = _check_optimize_result(\n"
     ]
    }
   ],
   "source": [
    "from sklearn.linear_model import LogisticRegression\n",
    "\n",
    "clf = LogisticRegression(random_state=0).fit( X_train, y_train)\n",
    "lr_pred = clf.predict(X_test)\n",
    "lr_acc = accuracy_score(y_test, lr_pred)*100\n",
    "print(\"Accuracy =\",round(lr_acc,2),\"%\")"
   ]
  },
  {
   "cell_type": "code",
   "execution_count": 151,
   "id": "dxgox9uQLKcj",
   "metadata": {
    "id": "dxgox9uQLKcj"
   },
   "outputs": [
    {
     "name": "stdout",
     "output_type": "stream",
     "text": [
      "Accuracy = 69.31 %\n"
     ]
    }
   ],
   "source": [
    "gb_clf = GradientBoostingClassifier()\n",
    "gb_clf.fit(X_train,y_train)\n",
    "gb_pred = gb_clf.predict(X_test)\n",
    "gb_acc = accuracy_score(y_test,gb_pred)*100\n",
    "print(\"Accuracy =\",round(gb_acc,2),\"%\")"
   ]
  },
  {
   "cell_type": "code",
   "execution_count": 148,
   "id": "Rvl5qmjALKcj",
   "metadata": {
    "id": "Rvl5qmjALKcj",
    "outputId": "b2644aab-e02b-44a1-b1b2-2060561b18f9"
   },
   "outputs": [
    {
     "name": "stdout",
     "output_type": "stream",
     "text": [
      "Accuracy = 69.24 %\n"
     ]
    }
   ],
   "source": [
    "from sklearn.neural_network import MLPClassifier\n",
    "mlp_clf = MLPClassifier(random_state=1, max_iter=300).fit(X_train, y_train)\n",
    "mlp_clf.fit( X_train, y_train)\n",
    "mlp_pred = mlp_clf.predict(X_test)\n",
    "mlp_acc = accuracy_score(y_test, mlp_pred)*100\n",
    "print(\"Accuracy =\",round(mlp_acc,2),\"%\")"
   ]
  },
  {
   "cell_type": "code",
   "execution_count": 164,
   "id": "-M37EaxzLKck",
   "metadata": {
    "id": "-M37EaxzLKck"
   },
   "outputs": [
    {
     "name": "stderr",
     "output_type": "stream",
     "text": [
      "/Library/Frameworks/Python.framework/Versions/3.9/lib/python3.9/site-packages/seaborn/_decorators.py:36: FutureWarning: Pass the following variables as keyword args: x, y. From version 0.12, the only valid positional argument will be `data`, and passing other arguments without an explicit keyword will result in an error or misinterpretation.\n",
      "  warnings.warn(\n"
     ]
    },
    {
     "data": {
      "text/plain": [
       "Text(0, 0.5, 'Accuracy')"
      ]
     },
     "execution_count": 164,
     "metadata": {},
     "output_type": "execute_result"
    },
    {
     "data": {
      "image/png": "[encoded data removed]",
      "text/plain": [
       "<Figure size 720x720 with 1 Axes>"
      ]
     },
     "metadata": {
      "needs_background": "light"
     },
     "output_type": "display_data"
    }
   ],
   "source": [
    "acc = pd.Series(index=['Random Forest','Logistic Regression','Gradient Boosting','MLP'], data=[rf_acc,lr_acc,gb_acc,mlp_acc])\n",
    "plt.figure(figsize=(10,10))\n",
    "s = sns.barplot(acc.index,acc.values)\n",
    "plt.title('Model Accuracy')\n",
    "plt.xlabel('Model')\n",
    "plt.ylabel('Accuracy')"
   ]
  },
  {
   "cell_type": "code",
   "execution_count": null,
   "id": "b189a0cf",
   "metadata": {},
   "outputs": [],
   "source": []
  }
 ],
 "metadata": {
  "colab": {
   "collapsed_sections": [],
   "name": "PreProcess_RandomForest.ipynb",
   "provenance": []
  },
  "kernelspec": {
   "display_name": "Python 3 (ipykernel)",
   "language": "python",
   "name": "python3"
  },
  "language_info": {
   "codemirror_mode": {
    "name": "ipython",
    "version": 3
   },
   "file_extension": ".py",
   "mimetype": "text/x-python",
   "name": "python",
   "nbconvert_exporter": "python",
   "pygments_lexer": "ipython3",
   "version": "3.9.6"
  }
 },
 "nbformat": 4,
 "nbformat_minor": 5
}
