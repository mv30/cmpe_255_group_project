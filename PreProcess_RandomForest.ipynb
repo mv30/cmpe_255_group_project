{
 "cells": [
  {
   "cell_type": "code",
   "execution_count": 43,
   "id": "1696cfb0",
   "metadata": {
    "id": "HZTH9Gl7LKcS"
   },
   "outputs": [],
   "source": [
    "import math\n",
    "import numpy as np\n",
    "import pandas as pd\n",
    "from sklearn.preprocessing import StandardScaler\n",
    "from sklearn.model_selection import train_test_split\n",
    "from sklearn.metrics import accuracy_score, confusion_matrix\n",
    "from sklearn.ensemble import RandomForestClassifier\n",
    "import matplotlib.pyplot as plt"
   ]
  },
  {
   "cell_type": "code",
   "execution_count": 44,
   "id": "a005b0e0",
   "metadata": {},
   "outputs": [
    {
     "data": {
      "text/html": [
       "<div>\n",
       "<style scoped>\n",
       "    .dataframe tbody tr th:only-of-type {\n",
       "        vertical-align: middle;\n",
       "    }\n",
       "\n",
       "    .dataframe tbody tr th {\n",
       "        vertical-align: top;\n",
       "    }\n",
       "\n",
       "    .dataframe thead th {\n",
       "        text-align: right;\n",
       "    }\n",
       "</style>\n",
       "<table border=\"1\" class=\"dataframe\">\n",
       "  <thead>\n",
       "    <tr style=\"text-align: right;\">\n",
       "      <th></th>\n",
       "      <th>App Name</th>\n",
       "      <th>App Id</th>\n",
       "      <th>Category</th>\n",
       "      <th>Rating</th>\n",
       "      <th>Rating Count</th>\n",
       "      <th>Installs</th>\n",
       "      <th>Minimum Installs</th>\n",
       "      <th>Maximum Installs</th>\n",
       "      <th>Free</th>\n",
       "      <th>Price</th>\n",
       "      <th>...</th>\n",
       "      <th>Developer Website</th>\n",
       "      <th>Developer Email</th>\n",
       "      <th>Released</th>\n",
       "      <th>Last Updated</th>\n",
       "      <th>Content Rating</th>\n",
       "      <th>Privacy Policy</th>\n",
       "      <th>Ad Supported</th>\n",
       "      <th>In App Purchases</th>\n",
       "      <th>Editors Choice</th>\n",
       "      <th>Scraped Time</th>\n",
       "    </tr>\n",
       "  </thead>\n",
       "  <tbody>\n",
       "    <tr>\n",
       "      <th>0</th>\n",
       "      <td>Gakondo</td>\n",
       "      <td>com.ishakwe.gakondo</td>\n",
       "      <td>Adventure</td>\n",
       "      <td>0.0</td>\n",
       "      <td>0.0</td>\n",
       "      <td>10+</td>\n",
       "      <td>10.0</td>\n",
       "      <td>15</td>\n",
       "      <td>True</td>\n",
       "      <td>0.0</td>\n",
       "      <td>...</td>\n",
       "      <td>https://beniyizibyose.tk/#/</td>\n",
       "      <td>jean21101999@gmail.com</td>\n",
       "      <td>Feb 26, 2020</td>\n",
       "      <td>Feb 26, 2020</td>\n",
       "      <td>Everyone</td>\n",
       "      <td>https://beniyizibyose.tk/projects/</td>\n",
       "      <td>False</td>\n",
       "      <td>False</td>\n",
       "      <td>False</td>\n",
       "      <td>2021-06-15 20:19:35</td>\n",
       "    </tr>\n",
       "    <tr>\n",
       "      <th>1</th>\n",
       "      <td>Ampere Battery Info</td>\n",
       "      <td>com.webserveis.batteryinfo</td>\n",
       "      <td>Tools</td>\n",
       "      <td>4.4</td>\n",
       "      <td>64.0</td>\n",
       "      <td>5,000+</td>\n",
       "      <td>5000.0</td>\n",
       "      <td>7662</td>\n",
       "      <td>True</td>\n",
       "      <td>0.0</td>\n",
       "      <td>...</td>\n",
       "      <td>https://webserveis.netlify.app/</td>\n",
       "      <td>webserveis@gmail.com</td>\n",
       "      <td>May 21, 2020</td>\n",
       "      <td>May 06, 2021</td>\n",
       "      <td>Everyone</td>\n",
       "      <td>https://dev4phones.wordpress.com/licencia-de-uso/</td>\n",
       "      <td>True</td>\n",
       "      <td>False</td>\n",
       "      <td>False</td>\n",
       "      <td>2021-06-15 20:19:35</td>\n",
       "    </tr>\n",
       "    <tr>\n",
       "      <th>2</th>\n",
       "      <td>Vibook</td>\n",
       "      <td>com.doantiepvien.crm</td>\n",
       "      <td>Productivity</td>\n",
       "      <td>0.0</td>\n",
       "      <td>0.0</td>\n",
       "      <td>50+</td>\n",
       "      <td>50.0</td>\n",
       "      <td>58</td>\n",
       "      <td>True</td>\n",
       "      <td>0.0</td>\n",
       "      <td>...</td>\n",
       "      <td>NaN</td>\n",
       "      <td>vnacrewit@gmail.com</td>\n",
       "      <td>Aug 9, 2019</td>\n",
       "      <td>Aug 19, 2019</td>\n",
       "      <td>Everyone</td>\n",
       "      <td>https://www.vietnamairlines.com/vn/en/terms-an...</td>\n",
       "      <td>False</td>\n",
       "      <td>False</td>\n",
       "      <td>False</td>\n",
       "      <td>2021-06-15 20:19:35</td>\n",
       "    </tr>\n",
       "    <tr>\n",
       "      <th>3</th>\n",
       "      <td>Smart City Trichy Public Service Vehicles 17UC...</td>\n",
       "      <td>cst.stJoseph.ug17ucs548</td>\n",
       "      <td>Communication</td>\n",
       "      <td>5.0</td>\n",
       "      <td>5.0</td>\n",
       "      <td>10+</td>\n",
       "      <td>10.0</td>\n",
       "      <td>19</td>\n",
       "      <td>True</td>\n",
       "      <td>0.0</td>\n",
       "      <td>...</td>\n",
       "      <td>http://www.climatesmarttech.com/</td>\n",
       "      <td>climatesmarttech2@gmail.com</td>\n",
       "      <td>Sep 10, 2018</td>\n",
       "      <td>Oct 13, 2018</td>\n",
       "      <td>Everyone</td>\n",
       "      <td>NaN</td>\n",
       "      <td>True</td>\n",
       "      <td>False</td>\n",
       "      <td>False</td>\n",
       "      <td>2021-06-15 20:19:35</td>\n",
       "    </tr>\n",
       "    <tr>\n",
       "      <th>4</th>\n",
       "      <td>GROW.me</td>\n",
       "      <td>com.horodyski.grower</td>\n",
       "      <td>Tools</td>\n",
       "      <td>0.0</td>\n",
       "      <td>0.0</td>\n",
       "      <td>100+</td>\n",
       "      <td>100.0</td>\n",
       "      <td>478</td>\n",
       "      <td>True</td>\n",
       "      <td>0.0</td>\n",
       "      <td>...</td>\n",
       "      <td>http://www.horodyski.com.pl</td>\n",
       "      <td>rmilekhorodyski@gmail.com</td>\n",
       "      <td>Feb 21, 2020</td>\n",
       "      <td>Nov 12, 2018</td>\n",
       "      <td>Everyone</td>\n",
       "      <td>http://www.horodyski.com.pl</td>\n",
       "      <td>False</td>\n",
       "      <td>False</td>\n",
       "      <td>False</td>\n",
       "      <td>2021-06-15 20:19:35</td>\n",
       "    </tr>\n",
       "  </tbody>\n",
       "</table>\n",
       "<p>5 rows × 24 columns</p>\n",
       "</div>"
      ],
      "text/plain": [
       "                                            App Name  \\\n",
       "0                                            Gakondo   \n",
       "1                                Ampere Battery Info   \n",
       "2                                             Vibook   \n",
       "3  Smart City Trichy Public Service Vehicles 17UC...   \n",
       "4                                            GROW.me   \n",
       "\n",
       "                       App Id       Category  Rating  Rating Count Installs  \\\n",
       "0         com.ishakwe.gakondo      Adventure     0.0           0.0      10+   \n",
       "1  com.webserveis.batteryinfo          Tools     4.4          64.0   5,000+   \n",
       "2        com.doantiepvien.crm   Productivity     0.0           0.0      50+   \n",
       "3     cst.stJoseph.ug17ucs548  Communication     5.0           5.0      10+   \n",
       "4        com.horodyski.grower          Tools     0.0           0.0     100+   \n",
       "\n",
       "   Minimum Installs  Maximum Installs  Free  Price  ...  \\\n",
       "0              10.0                15  True    0.0  ...   \n",
       "1            5000.0              7662  True    0.0  ...   \n",
       "2              50.0                58  True    0.0  ...   \n",
       "3              10.0                19  True    0.0  ...   \n",
       "4             100.0               478  True    0.0  ...   \n",
       "\n",
       "                  Developer Website              Developer Email  \\\n",
       "0       https://beniyizibyose.tk/#/       jean21101999@gmail.com   \n",
       "1   https://webserveis.netlify.app/         webserveis@gmail.com   \n",
       "2                               NaN          vnacrewit@gmail.com   \n",
       "3  http://www.climatesmarttech.com/  climatesmarttech2@gmail.com   \n",
       "4       http://www.horodyski.com.pl    rmilekhorodyski@gmail.com   \n",
       "\n",
       "       Released  Last Updated Content Rating  \\\n",
       "0  Feb 26, 2020  Feb 26, 2020       Everyone   \n",
       "1  May 21, 2020  May 06, 2021       Everyone   \n",
       "2   Aug 9, 2019  Aug 19, 2019       Everyone   \n",
       "3  Sep 10, 2018  Oct 13, 2018       Everyone   \n",
       "4  Feb 21, 2020  Nov 12, 2018       Everyone   \n",
       "\n",
       "                                      Privacy Policy Ad Supported  \\\n",
       "0                 https://beniyizibyose.tk/projects/        False   \n",
       "1  https://dev4phones.wordpress.com/licencia-de-uso/         True   \n",
       "2  https://www.vietnamairlines.com/vn/en/terms-an...        False   \n",
       "3                                                NaN         True   \n",
       "4                        http://www.horodyski.com.pl        False   \n",
       "\n",
       "  In App Purchases Editors Choice         Scraped Time  \n",
       "0            False          False  2021-06-15 20:19:35  \n",
       "1            False          False  2021-06-15 20:19:35  \n",
       "2            False          False  2021-06-15 20:19:35  \n",
       "3            False          False  2021-06-15 20:19:35  \n",
       "4            False          False  2021-06-15 20:19:35  \n",
       "\n",
       "[5 rows x 24 columns]"
      ]
     },
     "execution_count": 44,
     "metadata": {},
     "output_type": "execute_result"
    }
   ],
   "source": [
    "app_data = pd.read_csv(\"Google-Playstore.csv\")\n",
    "app_data.head()"
   ]
  },
  {
   "cell_type": "code",
   "execution_count": null,
   "id": "6282e37e",
   "metadata": {
    "colab": {
     "base_uri": "https://localhost:8080/"
    },
    "id": "yDbRa8duLKcX",
    "outputId": "541b313e-1338-4ec1-a900-d322b0a72b8f"
   },
   "outputs": [
    {
     "name": "stdout",
     "output_type": "stream",
     "text": [
      "<class 'pandas.core.frame.DataFrame'>\n",
      "RangeIndex: 2312944 entries, 0 to 2312943\n",
      "Data columns (total 24 columns):\n",
      " #   Column             Dtype  \n",
      "---  ------             -----  \n",
      " 0   App Name           object \n",
      " 1   App Id             object \n",
      " 2   Category           object \n",
      " 3   Rating             float64\n",
      " 4   Rating Count       float64\n",
      " 5   Installs           object \n",
      " 6   Minimum Installs   float64\n",
      " 7   Maximum Installs   int64  \n",
      " 8   Free               bool   \n",
      " 9   Price              float64\n",
      " 10  Currency           object \n",
      " 11  Size               object \n",
      " 12  Minimum Android    object \n",
      " 13  Developer Id       object \n",
      " 14  Developer Website  object \n",
      " 15  Developer Email    object \n",
      " 16  Released           object \n",
      " 17  Last Updated       object \n",
      " 18  Content Rating     object \n",
      " 19  Privacy Policy     object \n",
      " 20  Ad Supported       bool   \n",
      " 21  In App Purchases   bool   \n",
      " 22  Editors Choice     bool   \n",
      " 23  Scraped Time       object \n",
      "dtypes: bool(4), float64(4), int64(1), object(15)\n",
      "memory usage: 361.8+ MB\n"
     ]
    }
   ],
   "source": [
    "app_data.info()"
   ]
  },
  {
   "cell_type": "code",
   "execution_count": null,
   "id": "13eec94f",
   "metadata": {
    "colab": {
     "base_uri": "https://localhost:8080/"
    },
    "id": "bpi2u1GALKcY",
    "outputId": "21f0da9a-6abb-45e9-e09b-aacfe47b2765"
   },
   "outputs": [
    {
     "data": {
      "text/plain": [
       "(2312944, 24)"
      ]
     },
     "execution_count": 6,
     "metadata": {},
     "output_type": "execute_result"
    }
   ],
   "source": [
    "app_data.shape"
   ]
  },
  {
   "cell_type": "code",
   "execution_count": null,
   "id": "ea1f7845",
   "metadata": {
    "id": "9FoEcymqLKcY"
   },
   "outputs": [],
   "source": [
    "#  'Size', 'Minimum Android', retained"
   ]
  },
  {
   "cell_type": "code",
   "execution_count": null,
   "id": "dd6c2a4f",
   "metadata": {
    "colab": {
     "base_uri": "https://localhost:8080/"
    },
    "id": "ioCkAqyCztrv",
    "outputId": "f1c43a3f-4a75-40b3-8502-d01cbb3b5abe"
   },
   "outputs": [
    {
     "data": {
      "text/plain": [
       "0.000000     2268011\n",
       "0.990000       11851\n",
       "1.990000        5817\n",
       "2.990000        3921\n",
       "1.490000        3823\n",
       "              ...   \n",
       "14.010000          1\n",
       "46.300000          1\n",
       "90.801172          1\n",
       "14.093303          1\n",
       "4.100000           1\n",
       "Name: Price, Length: 1063, dtype: int64"
      ]
     },
     "execution_count": 8,
     "metadata": {},
     "output_type": "execute_result"
    }
   ],
   "source": [
    "app_data[\"Price\"].value_counts()"
   ]
  },
  {
   "cell_type": "code",
   "execution_count": null,
   "id": "108a1b6a",
   "metadata": {
    "colab": {
     "base_uri": "https://localhost:8080/"
    },
    "id": "Pu2ghs-yz-VM",
    "outputId": "fb756711-53b9-4038-f27b-633efa25a996"
   },
   "outputs": [
    {
     "data": {
      "text/plain": [
       "(2312944, 0.9803532452240854)"
      ]
     },
     "execution_count": 9,
     "metadata": {},
     "output_type": "execute_result"
    }
   ],
   "source": [
    "app_data['Price'].count(), 2191414/2235331"
   ]
  },
  {
   "cell_type": "markdown",
   "id": "f83d4b9f",
   "metadata": {
    "id": "6bhCaTd70J1w"
   },
   "source": [
    "Since over 98% of applications are free, the attribute 'Price' will be inconsequential for predicting Ratings"
   ]
  },
  {
   "cell_type": "code",
   "execution_count": null,
   "id": "412d9790",
   "metadata": {
    "colab": {
     "base_uri": "https://localhost:8080/",
     "height": 417
    },
    "id": "_h3hdgOlLKcZ",
    "outputId": "5f77a87c-7c7f-4bc0-93c2-57a3888b6448"
   },
   "outputs": [
    {
     "data": {
      "text/html": [
       "<div>\n",
       "<style scoped>\n",
       "    .dataframe tbody tr th:only-of-type {\n",
       "        vertical-align: middle;\n",
       "    }\n",
       "\n",
       "    .dataframe tbody tr th {\n",
       "        vertical-align: top;\n",
       "    }\n",
       "\n",
       "    .dataframe thead th {\n",
       "        text-align: right;\n",
       "    }\n",
       "</style>\n",
       "<table border=\"1\" class=\"dataframe\">\n",
       "  <thead>\n",
       "    <tr style=\"text-align: right;\">\n",
       "      <th></th>\n",
       "      <th>App Name</th>\n",
       "      <th>Category</th>\n",
       "      <th>Rating</th>\n",
       "      <th>Rating Count</th>\n",
       "      <th>Installs</th>\n",
       "      <th>Minimum Installs</th>\n",
       "      <th>Maximum Installs</th>\n",
       "      <th>Free</th>\n",
       "      <th>Size</th>\n",
       "      <th>Minimum Android</th>\n",
       "      <th>Released</th>\n",
       "      <th>Last Updated</th>\n",
       "      <th>Content Rating</th>\n",
       "      <th>Ad Supported</th>\n",
       "      <th>In App Purchases</th>\n",
       "    </tr>\n",
       "  </thead>\n",
       "  <tbody>\n",
       "    <tr>\n",
       "      <th>0</th>\n",
       "      <td>Gakondo</td>\n",
       "      <td>Adventure</td>\n",
       "      <td>0.0</td>\n",
       "      <td>0.0</td>\n",
       "      <td>10+</td>\n",
       "      <td>10.0</td>\n",
       "      <td>15</td>\n",
       "      <td>True</td>\n",
       "      <td>10M</td>\n",
       "      <td>7.1 and up</td>\n",
       "      <td>Feb 26, 2020</td>\n",
       "      <td>Feb 26, 2020</td>\n",
       "      <td>Everyone</td>\n",
       "      <td>False</td>\n",
       "      <td>False</td>\n",
       "    </tr>\n",
       "    <tr>\n",
       "      <th>1</th>\n",
       "      <td>Ampere Battery Info</td>\n",
       "      <td>Tools</td>\n",
       "      <td>4.4</td>\n",
       "      <td>64.0</td>\n",
       "      <td>5,000+</td>\n",
       "      <td>5000.0</td>\n",
       "      <td>7662</td>\n",
       "      <td>True</td>\n",
       "      <td>2.9M</td>\n",
       "      <td>5.0 and up</td>\n",
       "      <td>May 21, 2020</td>\n",
       "      <td>May 06, 2021</td>\n",
       "      <td>Everyone</td>\n",
       "      <td>True</td>\n",
       "      <td>False</td>\n",
       "    </tr>\n",
       "    <tr>\n",
       "      <th>2</th>\n",
       "      <td>Vibook</td>\n",
       "      <td>Productivity</td>\n",
       "      <td>0.0</td>\n",
       "      <td>0.0</td>\n",
       "      <td>50+</td>\n",
       "      <td>50.0</td>\n",
       "      <td>58</td>\n",
       "      <td>True</td>\n",
       "      <td>3.7M</td>\n",
       "      <td>4.0.3 and up</td>\n",
       "      <td>Aug 9, 2019</td>\n",
       "      <td>Aug 19, 2019</td>\n",
       "      <td>Everyone</td>\n",
       "      <td>False</td>\n",
       "      <td>False</td>\n",
       "    </tr>\n",
       "    <tr>\n",
       "      <th>3</th>\n",
       "      <td>Smart City Trichy Public Service Vehicles 17UC...</td>\n",
       "      <td>Communication</td>\n",
       "      <td>5.0</td>\n",
       "      <td>5.0</td>\n",
       "      <td>10+</td>\n",
       "      <td>10.0</td>\n",
       "      <td>19</td>\n",
       "      <td>True</td>\n",
       "      <td>1.8M</td>\n",
       "      <td>4.0.3 and up</td>\n",
       "      <td>Sep 10, 2018</td>\n",
       "      <td>Oct 13, 2018</td>\n",
       "      <td>Everyone</td>\n",
       "      <td>True</td>\n",
       "      <td>False</td>\n",
       "    </tr>\n",
       "    <tr>\n",
       "      <th>4</th>\n",
       "      <td>GROW.me</td>\n",
       "      <td>Tools</td>\n",
       "      <td>0.0</td>\n",
       "      <td>0.0</td>\n",
       "      <td>100+</td>\n",
       "      <td>100.0</td>\n",
       "      <td>478</td>\n",
       "      <td>True</td>\n",
       "      <td>6.2M</td>\n",
       "      <td>4.1 and up</td>\n",
       "      <td>Feb 21, 2020</td>\n",
       "      <td>Nov 12, 2018</td>\n",
       "      <td>Everyone</td>\n",
       "      <td>False</td>\n",
       "      <td>False</td>\n",
       "    </tr>\n",
       "  </tbody>\n",
       "</table>\n",
       "</div>"
      ],
      "text/plain": [
       "                                            App Name  ... In App Purchases\n",
       "0                                            Gakondo  ...            False\n",
       "1                                Ampere Battery Info  ...            False\n",
       "2                                             Vibook  ...            False\n",
       "3  Smart City Trichy Public Service Vehicles 17UC...  ...            False\n",
       "4                                            GROW.me  ...            False\n",
       "\n",
       "[5 rows x 15 columns]"
      ]
     },
     "execution_count": 10,
     "metadata": {},
     "output_type": "execute_result"
    }
   ],
   "source": [
    "app_data.drop(['App Id', 'Currency', 'Developer Id', 'Developer Website', 'Developer Email', 'Privacy Policy', 'Editors Choice', 'Scraped Time','Price'], axis=1, inplace=True)\n",
    "app_data.head()"
   ]
  },
  {
   "cell_type": "code",
   "execution_count": null,
   "id": "5f111b06",
   "metadata": {
    "colab": {
     "base_uri": "https://localhost:8080/"
    },
    "id": "SkeXdPmRLKcZ",
    "outputId": "228387f4-769e-4752-cdcd-db5d6da662fa"
   },
   "outputs": [
    {
     "name": "stdout",
     "output_type": "stream",
     "text": [
      "App Name                2\n",
      "Category                0\n",
      "Rating              22883\n",
      "Rating Count        22883\n",
      "Installs              107\n",
      "Minimum Installs      107\n",
      "Maximum Installs        0\n",
      "Free                    0\n",
      "Size                  196\n",
      "Minimum Android      6530\n",
      "Released            71053\n",
      "Last Updated            0\n",
      "Content Rating          0\n",
      "Ad Supported            0\n",
      "In App Purchases        0\n",
      "dtype: int64\n"
     ]
    }
   ],
   "source": [
    "print(app_data.isnull().sum())"
   ]
  },
  {
   "cell_type": "code",
   "execution_count": null,
   "id": "1a2cdde5",
   "metadata": {
    "colab": {
     "base_uri": "https://localhost:8080/"
    },
    "id": "MmlJf2FFLKca",
    "outputId": "be9f0395-ec15-430c-9d24-4b27e65d5961"
   },
   "outputs": [
    {
     "data": {
      "text/plain": [
       "(2312944, 15)"
      ]
     },
     "execution_count": 12,
     "metadata": {},
     "output_type": "execute_result"
    }
   ],
   "source": [
    "app_data.shape"
   ]
  },
  {
   "cell_type": "code",
   "execution_count": null,
   "id": "7c1f28d0",
   "metadata": {
    "colab": {
     "base_uri": "https://localhost:8080/"
    },
    "id": "S1FkXq57LKca",
    "outputId": "1f916496-7429-4ad7-8425-b5fa92f59610"
   },
   "outputs": [
    {
     "data": {
      "text/plain": [
       "(2235331, 15)"
      ]
     },
     "execution_count": 13,
     "metadata": {},
     "output_type": "execute_result"
    }
   ],
   "source": [
    "app_data.dropna(subset=['Rating', 'Rating Count', 'Installs', 'Size', 'Minimum Android','Released'], inplace=True)\n",
    "app_data.shape"
   ]
  },
  {
   "cell_type": "markdown",
   "id": "8750edfb",
   "metadata": {
    "id": "XQrXwpUCLKcb"
   },
   "source": [
    "Preprocessing Content Rating\n",
    "Mature 17+      => Mature\n",
    "Adults only 18+ => Adults\n",
    "Everyone 10+    => Everyone"
   ]
  },
  {
   "cell_type": "code",
   "execution_count": null,
   "id": "b1e7a397",
   "metadata": {
    "colab": {
     "base_uri": "https://localhost:8080/"
    },
    "id": "y35d4sHXLKcc",
    "outputId": "c207aae1-10a9-4a7d-e291-ea3357bc7e0a"
   },
   "outputs": [
    {
     "data": {
      "text/plain": [
       "Everyone           1954023\n",
       "Teen                189794\n",
       "Mature 17+           58527\n",
       "Everyone 10+         32706\n",
       "Unrated                152\n",
       "Adults only 18+        129\n",
       "Name: Content Rating, dtype: int64"
      ]
     },
     "execution_count": 14,
     "metadata": {},
     "output_type": "execute_result"
    }
   ],
   "source": [
    "app_data['Content Rating'].value_counts()"
   ]
  },
  {
   "cell_type": "code",
   "execution_count": null,
   "id": "5a474634",
   "metadata": {
    "id": "Sh9rNeIaLKcd"
   },
   "outputs": [],
   "source": [
    "app_data['Content Rating'] = app_data['Content Rating'].replace('Unrated',\"Everyone\")\n",
    "\n",
    "#Cleaning other values just to include Everyone, Teens and Adult \n",
    "\n",
    "app_data['Content Rating'] = app_data['Content Rating'].replace('Mature 17+',\"Mature\")\n",
    "app_data['Content Rating'] = app_data['Content Rating'].replace('Adults only 18+',\"Adults\")\n",
    "app_data['Content Rating'] = app_data['Content Rating'].replace('Everyone 10+',\"Everyone\")"
   ]
  },
  {
   "cell_type": "markdown",
   "id": "cd5927d1",
   "metadata": {
    "id": "FcDz70P-LKcd"
   },
   "source": [
    "Preprocessing Content Installs\n",
    "replaced commmas with no space & dropped + s"
   ]
  },
  {
   "cell_type": "code",
   "execution_count": null,
   "id": "f274913c",
   "metadata": {
    "id": "Fh2YCd6ILKce"
   },
   "outputs": [],
   "source": [
    "app_data.Installs = app_data.Installs.str.replace(',','')\n",
    "app_data.Installs = app_data.Installs.str.replace('+','')"
   ]
  },
  {
   "cell_type": "code",
   "execution_count": null,
   "id": "d72d4e63",
   "metadata": {
    "id": "xb7KEaPNLKce"
   },
   "outputs": [],
   "source": [
    "app_data['Installs'] = pd.to_numeric(app_data['Installs'])\n",
    "app_data['Installs'] = app_data.apply( lambda row: math.log2(row.Installs+1), axis = 1)"
   ]
  },
  {
   "cell_type": "code",
   "execution_count": null,
   "id": "44b7f5a7",
   "metadata": {
    "colab": {
     "base_uri": "https://localhost:8080/",
     "height": 417
    },
    "id": "2L-f5IVeLKce",
    "outputId": "6258a627-ceff-4afa-e7fd-56e9d90f7810"
   },
   "outputs": [
    {
     "data": {
      "text/html": [
       "<div>\n",
       "<style scoped>\n",
       "    .dataframe tbody tr th:only-of-type {\n",
       "        vertical-align: middle;\n",
       "    }\n",
       "\n",
       "    .dataframe tbody tr th {\n",
       "        vertical-align: top;\n",
       "    }\n",
       "\n",
       "    .dataframe thead th {\n",
       "        text-align: right;\n",
       "    }\n",
       "</style>\n",
       "<table border=\"1\" class=\"dataframe\">\n",
       "  <thead>\n",
       "    <tr style=\"text-align: right;\">\n",
       "      <th></th>\n",
       "      <th>App Name</th>\n",
       "      <th>Category</th>\n",
       "      <th>Rating</th>\n",
       "      <th>Rating Count</th>\n",
       "      <th>Installs</th>\n",
       "      <th>Minimum Installs</th>\n",
       "      <th>Maximum Installs</th>\n",
       "      <th>Free</th>\n",
       "      <th>Size</th>\n",
       "      <th>Minimum Android</th>\n",
       "      <th>Released</th>\n",
       "      <th>Last Updated</th>\n",
       "      <th>Content Rating</th>\n",
       "      <th>Ad Supported</th>\n",
       "      <th>In App Purchases</th>\n",
       "    </tr>\n",
       "  </thead>\n",
       "  <tbody>\n",
       "    <tr>\n",
       "      <th>0</th>\n",
       "      <td>Gakondo</td>\n",
       "      <td>Adventure</td>\n",
       "      <td>0.0</td>\n",
       "      <td>0.0</td>\n",
       "      <td>3.459432</td>\n",
       "      <td>10.0</td>\n",
       "      <td>15</td>\n",
       "      <td>True</td>\n",
       "      <td>10M</td>\n",
       "      <td>7.1 and up</td>\n",
       "      <td>Feb 26, 2020</td>\n",
       "      <td>Feb 26, 2020</td>\n",
       "      <td>Everyone</td>\n",
       "      <td>False</td>\n",
       "      <td>False</td>\n",
       "    </tr>\n",
       "    <tr>\n",
       "      <th>1</th>\n",
       "      <td>Ampere Battery Info</td>\n",
       "      <td>Tools</td>\n",
       "      <td>4.4</td>\n",
       "      <td>64.0</td>\n",
       "      <td>12.288001</td>\n",
       "      <td>5000.0</td>\n",
       "      <td>7662</td>\n",
       "      <td>True</td>\n",
       "      <td>2.9M</td>\n",
       "      <td>5.0 and up</td>\n",
       "      <td>May 21, 2020</td>\n",
       "      <td>May 06, 2021</td>\n",
       "      <td>Everyone</td>\n",
       "      <td>True</td>\n",
       "      <td>False</td>\n",
       "    </tr>\n",
       "    <tr>\n",
       "      <th>2</th>\n",
       "      <td>Vibook</td>\n",
       "      <td>Productivity</td>\n",
       "      <td>0.0</td>\n",
       "      <td>0.0</td>\n",
       "      <td>5.672425</td>\n",
       "      <td>50.0</td>\n",
       "      <td>58</td>\n",
       "      <td>True</td>\n",
       "      <td>3.7M</td>\n",
       "      <td>4.0.3 and up</td>\n",
       "      <td>Aug 9, 2019</td>\n",
       "      <td>Aug 19, 2019</td>\n",
       "      <td>Everyone</td>\n",
       "      <td>False</td>\n",
       "      <td>False</td>\n",
       "    </tr>\n",
       "    <tr>\n",
       "      <th>3</th>\n",
       "      <td>Smart City Trichy Public Service Vehicles 17UC...</td>\n",
       "      <td>Communication</td>\n",
       "      <td>5.0</td>\n",
       "      <td>5.0</td>\n",
       "      <td>3.459432</td>\n",
       "      <td>10.0</td>\n",
       "      <td>19</td>\n",
       "      <td>True</td>\n",
       "      <td>1.8M</td>\n",
       "      <td>4.0.3 and up</td>\n",
       "      <td>Sep 10, 2018</td>\n",
       "      <td>Oct 13, 2018</td>\n",
       "      <td>Everyone</td>\n",
       "      <td>True</td>\n",
       "      <td>False</td>\n",
       "    </tr>\n",
       "    <tr>\n",
       "      <th>4</th>\n",
       "      <td>GROW.me</td>\n",
       "      <td>Tools</td>\n",
       "      <td>0.0</td>\n",
       "      <td>0.0</td>\n",
       "      <td>6.658211</td>\n",
       "      <td>100.0</td>\n",
       "      <td>478</td>\n",
       "      <td>True</td>\n",
       "      <td>6.2M</td>\n",
       "      <td>4.1 and up</td>\n",
       "      <td>Feb 21, 2020</td>\n",
       "      <td>Nov 12, 2018</td>\n",
       "      <td>Everyone</td>\n",
       "      <td>False</td>\n",
       "      <td>False</td>\n",
       "    </tr>\n",
       "  </tbody>\n",
       "</table>\n",
       "</div>"
      ],
      "text/plain": [
       "                                            App Name  ... In App Purchases\n",
       "0                                            Gakondo  ...            False\n",
       "1                                Ampere Battery Info  ...            False\n",
       "2                                             Vibook  ...            False\n",
       "3  Smart City Trichy Public Service Vehicles 17UC...  ...            False\n",
       "4                                            GROW.me  ...            False\n",
       "\n",
       "[5 rows x 15 columns]"
      ]
     },
     "execution_count": 18,
     "metadata": {},
     "output_type": "execute_result"
    }
   ],
   "source": [
    "app_data.head()"
   ]
  },
  {
   "cell_type": "markdown",
   "id": "19609271",
   "metadata": {
    "id": "92jmjKHqLKcf"
   },
   "source": [
    "Converting app size from string to numeric"
   ]
  },
  {
   "cell_type": "code",
   "execution_count": null,
   "id": "dc9a0456",
   "metadata": {
    "id": "kNDtapQNLKcf"
   },
   "outputs": [],
   "source": [
    "def get_app_size( size_str):\n",
    "    if size_str == 'Varies with device':\n",
    "        return 0\n",
    "    metric_unit = size_str[-1]\n",
    "    val = float(size_str[:-1])\n",
    "    if metric_unit == 'k' or metric_unit == 'K':\n",
    "        val = val*1000.0\n",
    "    elif metric_unit == 'M':\n",
    "        val = val*1000000.0\n",
    "    elif metric_unit == 'G':\n",
    "        val = val*1000000000.0\n",
    "    else:\n",
    "        raise Exception(\" Value metric not detected {} \".format(size_str))\n",
    "    return math.log2(val)"
   ]
  },
  {
   "cell_type": "code",
   "execution_count": null,
   "id": "9f04d5c7",
   "metadata": {
    "id": "JjM5xKC9LKcf"
   },
   "outputs": [],
   "source": [
    "app_data.Size = app_data.Size.str.replace(',','')\n",
    "app_data['Size_Log'] = app_data.apply( lambda row: get_app_size(row.Size), axis = 1)"
   ]
  },
  {
   "cell_type": "code",
   "execution_count": null,
   "id": "d1333f66",
   "metadata": {
    "id": "pU0YsCgVgVru"
   },
   "outputs": [],
   "source": [
    "def processDate(df, columnName):\n",
    "    # global df\n",
    "    df_processed =  pd.to_datetime(df[columnName], format='%b %d, %Y')\n",
    "    df_processed = pd.DataFrame(df_processed)\n",
    "\n",
    "    df_processed['year'] =  df_processed[columnName].dt.year.astype('Int64')\n",
    "    df_processed['month'] = df_processed[columnName].dt.month.astype('Int64')\n",
    "\n",
    "    df['Year '+columnName]=df_processed['year']\n",
    "    df['Month '+columnName]=df_processed['month']\n",
    "    df=df.drop([columnName], axis = 1)\n",
    "    return df"
   ]
  },
  {
   "cell_type": "code",
   "execution_count": null,
   "id": "1df0d393",
   "metadata": {
    "id": "QwjHd_Rdgs1H"
   },
   "outputs": [],
   "source": [
    "app_data=processDate(app_data, 'Released')\n",
    "app_data=processDate(app_data, 'Last Updated')"
   ]
  },
  {
   "cell_type": "code",
   "execution_count": null,
   "id": "5b421283",
   "metadata": {
    "colab": {
     "base_uri": "https://localhost:8080/",
     "height": 434
    },
    "id": "cQiVQYLsgGDi",
    "outputId": "7857993d-4be8-4a50-ec5a-a7d7c543ba06"
   },
   "outputs": [
    {
     "data": {
      "text/html": [
       "<div>\n",
       "<style scoped>\n",
       "    .dataframe tbody tr th:only-of-type {\n",
       "        vertical-align: middle;\n",
       "    }\n",
       "\n",
       "    .dataframe tbody tr th {\n",
       "        vertical-align: top;\n",
       "    }\n",
       "\n",
       "    .dataframe thead th {\n",
       "        text-align: right;\n",
       "    }\n",
       "</style>\n",
       "<table border=\"1\" class=\"dataframe\">\n",
       "  <thead>\n",
       "    <tr style=\"text-align: right;\">\n",
       "      <th></th>\n",
       "      <th>App Name</th>\n",
       "      <th>Category</th>\n",
       "      <th>Rating</th>\n",
       "      <th>Rating Count</th>\n",
       "      <th>Installs</th>\n",
       "      <th>Minimum Installs</th>\n",
       "      <th>Maximum Installs</th>\n",
       "      <th>Free</th>\n",
       "      <th>Size</th>\n",
       "      <th>Minimum Android</th>\n",
       "      <th>Content Rating</th>\n",
       "      <th>Ad Supported</th>\n",
       "      <th>In App Purchases</th>\n",
       "      <th>Size_Log</th>\n",
       "      <th>Year Released</th>\n",
       "      <th>Month Released</th>\n",
       "      <th>Year Last Updated</th>\n",
       "      <th>Month Last Updated</th>\n",
       "    </tr>\n",
       "  </thead>\n",
       "  <tbody>\n",
       "    <tr>\n",
       "      <th>0</th>\n",
       "      <td>Gakondo</td>\n",
       "      <td>Adventure</td>\n",
       "      <td>0.0</td>\n",
       "      <td>0.0</td>\n",
       "      <td>3.459432</td>\n",
       "      <td>10.0</td>\n",
       "      <td>15</td>\n",
       "      <td>True</td>\n",
       "      <td>10M</td>\n",
       "      <td>7.1 and up</td>\n",
       "      <td>Everyone</td>\n",
       "      <td>False</td>\n",
       "      <td>False</td>\n",
       "      <td>23.253497</td>\n",
       "      <td>2020</td>\n",
       "      <td>2</td>\n",
       "      <td>2020</td>\n",
       "      <td>2</td>\n",
       "    </tr>\n",
       "    <tr>\n",
       "      <th>1</th>\n",
       "      <td>Ampere Battery Info</td>\n",
       "      <td>Tools</td>\n",
       "      <td>4.4</td>\n",
       "      <td>64.0</td>\n",
       "      <td>12.288001</td>\n",
       "      <td>5000.0</td>\n",
       "      <td>7662</td>\n",
       "      <td>True</td>\n",
       "      <td>2.9M</td>\n",
       "      <td>5.0 and up</td>\n",
       "      <td>Everyone</td>\n",
       "      <td>True</td>\n",
       "      <td>False</td>\n",
       "      <td>21.467621</td>\n",
       "      <td>2020</td>\n",
       "      <td>5</td>\n",
       "      <td>2021</td>\n",
       "      <td>5</td>\n",
       "    </tr>\n",
       "    <tr>\n",
       "      <th>2</th>\n",
       "      <td>Vibook</td>\n",
       "      <td>Productivity</td>\n",
       "      <td>0.0</td>\n",
       "      <td>0.0</td>\n",
       "      <td>5.672425</td>\n",
       "      <td>50.0</td>\n",
       "      <td>58</td>\n",
       "      <td>True</td>\n",
       "      <td>3.7M</td>\n",
       "      <td>4.0.3 and up</td>\n",
       "      <td>Everyone</td>\n",
       "      <td>False</td>\n",
       "      <td>False</td>\n",
       "      <td>21.819094</td>\n",
       "      <td>2019</td>\n",
       "      <td>8</td>\n",
       "      <td>2019</td>\n",
       "      <td>8</td>\n",
       "    </tr>\n",
       "    <tr>\n",
       "      <th>3</th>\n",
       "      <td>Smart City Trichy Public Service Vehicles 17UC...</td>\n",
       "      <td>Communication</td>\n",
       "      <td>5.0</td>\n",
       "      <td>5.0</td>\n",
       "      <td>3.459432</td>\n",
       "      <td>10.0</td>\n",
       "      <td>19</td>\n",
       "      <td>True</td>\n",
       "      <td>1.8M</td>\n",
       "      <td>4.0.3 and up</td>\n",
       "      <td>Everyone</td>\n",
       "      <td>True</td>\n",
       "      <td>False</td>\n",
       "      <td>20.779565</td>\n",
       "      <td>2018</td>\n",
       "      <td>9</td>\n",
       "      <td>2018</td>\n",
       "      <td>10</td>\n",
       "    </tr>\n",
       "    <tr>\n",
       "      <th>4</th>\n",
       "      <td>GROW.me</td>\n",
       "      <td>Tools</td>\n",
       "      <td>0.0</td>\n",
       "      <td>0.0</td>\n",
       "      <td>6.658211</td>\n",
       "      <td>100.0</td>\n",
       "      <td>478</td>\n",
       "      <td>True</td>\n",
       "      <td>6.2M</td>\n",
       "      <td>4.1 and up</td>\n",
       "      <td>Everyone</td>\n",
       "      <td>False</td>\n",
       "      <td>False</td>\n",
       "      <td>22.563837</td>\n",
       "      <td>2020</td>\n",
       "      <td>2</td>\n",
       "      <td>2018</td>\n",
       "      <td>11</td>\n",
       "    </tr>\n",
       "  </tbody>\n",
       "</table>\n",
       "</div>"
      ],
      "text/plain": [
       "                                            App Name  ... Month Last Updated\n",
       "0                                            Gakondo  ...                  2\n",
       "1                                Ampere Battery Info  ...                  5\n",
       "2                                             Vibook  ...                  8\n",
       "3  Smart City Trichy Public Service Vehicles 17UC...  ...                 10\n",
       "4                                            GROW.me  ...                 11\n",
       "\n",
       "[5 rows x 18 columns]"
      ]
     },
     "execution_count": 23,
     "metadata": {},
     "output_type": "execute_result"
    }
   ],
   "source": [
    "app_data.head()"
   ]
  },
  {
   "cell_type": "code",
   "execution_count": null,
   "id": "96755844",
   "metadata": {
    "id": "zbtDpao95PDB"
   },
   "outputs": [],
   "source": [
    "#app_data.corr(method ='pearson')"
   ]
  },
  {
   "cell_type": "code",
   "execution_count": null,
   "id": "480dc1dc",
   "metadata": {
    "colab": {
     "base_uri": "https://localhost:8080/",
     "height": 377
    },
    "id": "RL8CjQ2e5sbv",
    "outputId": "34dd011a-2779-4e2d-962c-ff2f53131bd6"
   },
   "outputs": [
    {
     "data": {
      "text/plain": [
       "<matplotlib.axes._subplots.AxesSubplot at 0x7ff8782c7510>"
      ]
     },
     "execution_count": 25,
     "metadata": {},
     "output_type": "execute_result"
    },
    {
     "data": {
      "image/png": "[encoded data removed]",
      "text/plain": [
       "<Figure size 432x288 with 2 Axes>"
      ]
     },
     "metadata": {
      "needs_background": "light"
     },
     "output_type": "display_data"
    }
   ],
   "source": [
    "import seaborn as sns\n",
    "\n",
    "Var_Corr = app_data.corr()\n",
    "sns.heatmap(Var_Corr, xticklabels=Var_Corr.columns, yticklabels=Var_Corr.columns)"
   ]
  },
  {
   "cell_type": "code",
   "execution_count": null,
   "id": "323371f0",
   "metadata": {
    "id": "Kq87oxTPLKcf"
   },
   "outputs": [],
   "source": [
    "def get_version_value( version):\n",
    "    if version == 'up':\n",
    "        return 11\n",
    "    if version[-1] == 'W':\n",
    "        version = version[:-1]\n",
    "    version = version.split('.')\n",
    "    version.append('0')\n",
    "    return float(\"{}.{}\".format(version[0], version[1]))"
   ]
  },
  {
   "cell_type": "code",
   "execution_count": null,
   "id": "93d1ba3d",
   "metadata": {
    "id": "QPZ3i7Z3LKcg"
   },
   "outputs": [],
   "source": [
    "def get_min_version( version):\n",
    "    if version == 'Varies with device':\n",
    "        return 0\n",
    "    elif '-' in version:\n",
    "        arr = version.split('-')\n",
    "        return get_version_value(arr[0].strip())\n",
    "    elif 'and' in version:\n",
    "        arr = version.split('and')\n",
    "        return get_version_value(arr[0].strip())\n",
    "    return get_version_value( version)"
   ]
  },
  {
   "cell_type": "code",
   "execution_count": null,
   "id": "92698ec3",
   "metadata": {
    "id": "nWwiTBTcLKcg"
   },
   "outputs": [],
   "source": [
    "def get_max_version( version):\n",
    "    if version == 'Varies with device':\n",
    "        return 11\n",
    "    elif '-' in version:\n",
    "        arr = version.split('-')\n",
    "        return get_version_value(arr[1].strip())\n",
    "    elif 'and' in version:\n",
    "        arr = version.split('and')\n",
    "        return get_version_value(arr[1].strip())\n",
    "    return get_version_value( version)"
   ]
  },
  {
   "cell_type": "code",
   "execution_count": null,
   "id": "e5967527",
   "metadata": {
    "id": "ASevHkPbLKcg"
   },
   "outputs": [],
   "source": [
    "app_data['Min_Version'] = app_data.apply( lambda row: get_min_version(row['Minimum Android']), axis = 1)\n",
    "app_data['Max_Version'] = app_data.apply( lambda row: get_max_version(row['Minimum Android']), axis = 1)"
   ]
  },
  {
   "cell_type": "code",
   "execution_count": null,
   "id": "4033c4d1",
   "metadata": {
    "colab": {
     "base_uri": "https://localhost:8080/",
     "height": 434
    },
    "id": "v4U5L-raLKch",
    "outputId": "21dc78b3-857c-4201-d259-48285237413b"
   },
   "outputs": [
    {
     "data": {
      "text/html": [
       "<div>\n",
       "<style scoped>\n",
       "    .dataframe tbody tr th:only-of-type {\n",
       "        vertical-align: middle;\n",
       "    }\n",
       "\n",
       "    .dataframe tbody tr th {\n",
       "        vertical-align: top;\n",
       "    }\n",
       "\n",
       "    .dataframe thead th {\n",
       "        text-align: right;\n",
       "    }\n",
       "</style>\n",
       "<table border=\"1\" class=\"dataframe\">\n",
       "  <thead>\n",
       "    <tr style=\"text-align: right;\">\n",
       "      <th></th>\n",
       "      <th>App Name</th>\n",
       "      <th>Category</th>\n",
       "      <th>Rating</th>\n",
       "      <th>Rating Count</th>\n",
       "      <th>Installs</th>\n",
       "      <th>Minimum Installs</th>\n",
       "      <th>Maximum Installs</th>\n",
       "      <th>Free</th>\n",
       "      <th>Size</th>\n",
       "      <th>Minimum Android</th>\n",
       "      <th>Content Rating</th>\n",
       "      <th>Ad Supported</th>\n",
       "      <th>In App Purchases</th>\n",
       "      <th>Size_Log</th>\n",
       "      <th>Year Released</th>\n",
       "      <th>Month Released</th>\n",
       "      <th>Year Last Updated</th>\n",
       "      <th>Month Last Updated</th>\n",
       "      <th>Min_Version</th>\n",
       "      <th>Max_Version</th>\n",
       "    </tr>\n",
       "  </thead>\n",
       "  <tbody>\n",
       "    <tr>\n",
       "      <th>0</th>\n",
       "      <td>Gakondo</td>\n",
       "      <td>0</td>\n",
       "      <td>0.0</td>\n",
       "      <td>0.0</td>\n",
       "      <td>3.459432</td>\n",
       "      <td>10.0</td>\n",
       "      <td>15</td>\n",
       "      <td>0</td>\n",
       "      <td>10M</td>\n",
       "      <td>7.1 and up</td>\n",
       "      <td>0</td>\n",
       "      <td>0</td>\n",
       "      <td>0</td>\n",
       "      <td>23.253497</td>\n",
       "      <td>2020</td>\n",
       "      <td>2</td>\n",
       "      <td>2020</td>\n",
       "      <td>2</td>\n",
       "      <td>7.1</td>\n",
       "      <td>11.0</td>\n",
       "    </tr>\n",
       "    <tr>\n",
       "      <th>1</th>\n",
       "      <td>Ampere Battery Info</td>\n",
       "      <td>1</td>\n",
       "      <td>4.4</td>\n",
       "      <td>64.0</td>\n",
       "      <td>12.288001</td>\n",
       "      <td>5000.0</td>\n",
       "      <td>7662</td>\n",
       "      <td>0</td>\n",
       "      <td>2.9M</td>\n",
       "      <td>5.0 and up</td>\n",
       "      <td>0</td>\n",
       "      <td>1</td>\n",
       "      <td>0</td>\n",
       "      <td>21.467621</td>\n",
       "      <td>2020</td>\n",
       "      <td>5</td>\n",
       "      <td>2021</td>\n",
       "      <td>5</td>\n",
       "      <td>5.0</td>\n",
       "      <td>11.0</td>\n",
       "    </tr>\n",
       "    <tr>\n",
       "      <th>2</th>\n",
       "      <td>Vibook</td>\n",
       "      <td>2</td>\n",
       "      <td>0.0</td>\n",
       "      <td>0.0</td>\n",
       "      <td>5.672425</td>\n",
       "      <td>50.0</td>\n",
       "      <td>58</td>\n",
       "      <td>0</td>\n",
       "      <td>3.7M</td>\n",
       "      <td>4.0.3 and up</td>\n",
       "      <td>0</td>\n",
       "      <td>0</td>\n",
       "      <td>0</td>\n",
       "      <td>21.819094</td>\n",
       "      <td>2019</td>\n",
       "      <td>8</td>\n",
       "      <td>2019</td>\n",
       "      <td>8</td>\n",
       "      <td>4.0</td>\n",
       "      <td>11.0</td>\n",
       "    </tr>\n",
       "    <tr>\n",
       "      <th>3</th>\n",
       "      <td>Smart City Trichy Public Service Vehicles 17UC...</td>\n",
       "      <td>3</td>\n",
       "      <td>5.0</td>\n",
       "      <td>5.0</td>\n",
       "      <td>3.459432</td>\n",
       "      <td>10.0</td>\n",
       "      <td>19</td>\n",
       "      <td>0</td>\n",
       "      <td>1.8M</td>\n",
       "      <td>4.0.3 and up</td>\n",
       "      <td>0</td>\n",
       "      <td>1</td>\n",
       "      <td>0</td>\n",
       "      <td>20.779565</td>\n",
       "      <td>2018</td>\n",
       "      <td>9</td>\n",
       "      <td>2018</td>\n",
       "      <td>10</td>\n",
       "      <td>4.0</td>\n",
       "      <td>11.0</td>\n",
       "    </tr>\n",
       "    <tr>\n",
       "      <th>4</th>\n",
       "      <td>GROW.me</td>\n",
       "      <td>1</td>\n",
       "      <td>0.0</td>\n",
       "      <td>0.0</td>\n",
       "      <td>6.658211</td>\n",
       "      <td>100.0</td>\n",
       "      <td>478</td>\n",
       "      <td>0</td>\n",
       "      <td>6.2M</td>\n",
       "      <td>4.1 and up</td>\n",
       "      <td>0</td>\n",
       "      <td>0</td>\n",
       "      <td>0</td>\n",
       "      <td>22.563837</td>\n",
       "      <td>2020</td>\n",
       "      <td>2</td>\n",
       "      <td>2018</td>\n",
       "      <td>11</td>\n",
       "      <td>4.1</td>\n",
       "      <td>11.0</td>\n",
       "    </tr>\n",
       "  </tbody>\n",
       "</table>\n",
       "</div>"
      ],
      "text/plain": [
       "                                            App Name  ...  Max_Version\n",
       "0                                            Gakondo  ...         11.0\n",
       "1                                Ampere Battery Info  ...         11.0\n",
       "2                                             Vibook  ...         11.0\n",
       "3  Smart City Trichy Public Service Vehicles 17UC...  ...         11.0\n",
       "4                                            GROW.me  ...         11.0\n",
       "\n",
       "[5 rows x 20 columns]"
      ]
     },
     "execution_count": 30,
     "metadata": {},
     "output_type": "execute_result"
    }
   ],
   "source": [
    "app_data['Category'] = pd.factorize(app_data['Category'])[0].astype(int)\n",
    "app_data['Content Rating'] = pd.factorize(app_data['Content Rating'])[0].astype(int)\n",
    "app_data['Ad Supported'] = pd.factorize(app_data['Ad Supported'])[0].astype(int)\n",
    "app_data['In App Purchases'] = pd.factorize(app_data['In App Purchases'])[0].astype(int)\n",
    "app_data['Free'] = pd.factorize(app_data['Free'])[0].astype(int)\n",
    "app_data.head()"
   ]
  },
  {
   "cell_type": "code",
   "execution_count": null,
   "id": "15c5e738",
   "metadata": {
    "colab": {
     "base_uri": "https://localhost:8080/"
    },
    "id": "KGTAVeFuLKch",
    "outputId": "de8525eb-5b79-47dd-f3e8-5e78bd35e850"
   },
   "outputs": [
    {
     "data": {
      "text/plain": [
       "0    1986881\n",
       "1     189794\n",
       "2      58527\n",
       "3        129\n",
       "Name: Content Rating, dtype: int64"
      ]
     },
     "execution_count": 31,
     "metadata": {},
     "output_type": "execute_result"
    }
   ],
   "source": [
    "app_data['Content Rating'].value_counts()"
   ]
  },
  {
   "cell_type": "code",
   "execution_count": null,
   "id": "dcf811c0",
   "metadata": {
    "colab": {
     "base_uri": "https://localhost:8080/",
     "height": 206
    },
    "id": "RujmLsEnLKch",
    "outputId": "af1d7ed1-2374-4a11-a15e-9e5fe1c38361"
   },
   "outputs": [
    {
     "data": {
      "text/html": [
       "<div>\n",
       "<style scoped>\n",
       "    .dataframe tbody tr th:only-of-type {\n",
       "        vertical-align: middle;\n",
       "    }\n",
       "\n",
       "    .dataframe tbody tr th {\n",
       "        vertical-align: top;\n",
       "    }\n",
       "\n",
       "    .dataframe thead th {\n",
       "        text-align: right;\n",
       "    }\n",
       "</style>\n",
       "<table border=\"1\" class=\"dataframe\">\n",
       "  <thead>\n",
       "    <tr style=\"text-align: right;\">\n",
       "      <th></th>\n",
       "      <th>Category</th>\n",
       "      <th>Installs</th>\n",
       "      <th>Free</th>\n",
       "      <th>Size</th>\n",
       "      <th>Ad Supported</th>\n",
       "      <th>In App Purchases</th>\n",
       "      <th>Size_Log</th>\n",
       "      <th>Month Released</th>\n",
       "      <th>Min_Version</th>\n",
       "      <th>Max_Version</th>\n",
       "    </tr>\n",
       "  </thead>\n",
       "  <tbody>\n",
       "    <tr>\n",
       "      <th>0</th>\n",
       "      <td>0</td>\n",
       "      <td>3.459432</td>\n",
       "      <td>0</td>\n",
       "      <td>10M</td>\n",
       "      <td>0</td>\n",
       "      <td>0</td>\n",
       "      <td>23.253497</td>\n",
       "      <td>2</td>\n",
       "      <td>7.1</td>\n",
       "      <td>11.0</td>\n",
       "    </tr>\n",
       "    <tr>\n",
       "      <th>1</th>\n",
       "      <td>1</td>\n",
       "      <td>12.288001</td>\n",
       "      <td>0</td>\n",
       "      <td>2.9M</td>\n",
       "      <td>1</td>\n",
       "      <td>0</td>\n",
       "      <td>21.467621</td>\n",
       "      <td>5</td>\n",
       "      <td>5.0</td>\n",
       "      <td>11.0</td>\n",
       "    </tr>\n",
       "    <tr>\n",
       "      <th>2</th>\n",
       "      <td>2</td>\n",
       "      <td>5.672425</td>\n",
       "      <td>0</td>\n",
       "      <td>3.7M</td>\n",
       "      <td>0</td>\n",
       "      <td>0</td>\n",
       "      <td>21.819094</td>\n",
       "      <td>8</td>\n",
       "      <td>4.0</td>\n",
       "      <td>11.0</td>\n",
       "    </tr>\n",
       "    <tr>\n",
       "      <th>3</th>\n",
       "      <td>3</td>\n",
       "      <td>3.459432</td>\n",
       "      <td>0</td>\n",
       "      <td>1.8M</td>\n",
       "      <td>1</td>\n",
       "      <td>0</td>\n",
       "      <td>20.779565</td>\n",
       "      <td>9</td>\n",
       "      <td>4.0</td>\n",
       "      <td>11.0</td>\n",
       "    </tr>\n",
       "    <tr>\n",
       "      <th>4</th>\n",
       "      <td>1</td>\n",
       "      <td>6.658211</td>\n",
       "      <td>0</td>\n",
       "      <td>6.2M</td>\n",
       "      <td>0</td>\n",
       "      <td>0</td>\n",
       "      <td>22.563837</td>\n",
       "      <td>2</td>\n",
       "      <td>4.1</td>\n",
       "      <td>11.0</td>\n",
       "    </tr>\n",
       "  </tbody>\n",
       "</table>\n",
       "</div>"
      ],
      "text/plain": [
       "   Category   Installs  Free  ... Month Released  Min_Version  Max_Version\n",
       "0         0   3.459432     0  ...              2          7.1         11.0\n",
       "1         1  12.288001     0  ...              5          5.0         11.0\n",
       "2         2   5.672425     0  ...              8          4.0         11.0\n",
       "3         3   3.459432     0  ...              9          4.0         11.0\n",
       "4         1   6.658211     0  ...              2          4.1         11.0\n",
       "\n",
       "[5 rows x 10 columns]"
      ]
     },
     "execution_count": 32,
     "metadata": {},
     "output_type": "execute_result"
    }
   ],
   "source": [
    "X = app_data.drop(['App Name', 'Content Rating', 'Minimum Android','Rating', 'Rating Count', 'Minimum Installs', 'Maximum Installs', 'Year Released', 'Year Last Updated','Month Last Updated'], axis=1)\n",
    "X.head()"
   ]
  },
  {
   "cell_type": "code",
   "execution_count": null,
   "id": "17b24b67",
   "metadata": {
    "colab": {
     "base_uri": "https://localhost:8080/"
    },
    "id": "bjkwdJK6LKch",
    "outputId": "7ede2088-d011-4b1a-c293-bdba167321dc"
   },
   "outputs": [
    {
     "name": "stdout",
     "output_type": "stream",
     "text": [
      "[0. 4. 0. 5. 0. 0. 4. 2. 5. 5.]\n"
     ]
    }
   ],
   "source": [
    "y = app_data['Rating'].values.round()\n",
    "print(y[0:10])"
   ]
  },
  {
   "cell_type": "code",
   "execution_count": null,
   "id": "19189626",
   "metadata": {
    "colab": {
     "base_uri": "https://localhost:8080/"
    },
    "id": "iVsMMDCm6yM1",
    "outputId": "78420579-5131-4405-be86-3e2e9c84725b"
   },
   "outputs": [
    {
     "data": {
      "text/plain": [
       "(Index(['Category', 'Installs', 'Free', 'Size', 'Ad Supported',\n",
       "        'In App Purchases', 'Size_Log', 'Month Released', 'Min_Version',\n",
       "        'Max_Version'],\n",
       "       dtype='object'), array([0., 4., 0., ..., 0., 4., 5.]))"
      ]
     },
     "execution_count": 38,
     "metadata": {},
     "output_type": "execute_result"
    }
   ],
   "source": [
    "X.columns,y"
   ]
  },
  {
   "cell_type": "code",
   "execution_count": null,
   "id": "78c64d6e",
   "metadata": {
    "colab": {
     "base_uri": "https://localhost:8080/",
     "height": 296
    },
    "id": "hyL43lwI8Iak",
    "outputId": "9639ad93-0856-4c35-ad29-63758f905d42"
   },
   "outputs": [
    {
     "data": {
      "text/plain": [
       "<matplotlib.axes._subplots.AxesSubplot at 0x7ff85d74c850>"
      ]
     },
     "execution_count": 39,
     "metadata": {},
     "output_type": "execute_result"
    },
    {
     "data": {
      "image/png": "[encoded data removed]",
      "text/plain": [
       "<Figure size 432x288 with 1 Axes>"
      ]
     },
     "metadata": {
      "needs_background": "light"
     },
     "output_type": "display_data"
    }
   ],
   "source": [
    "sns.lineplot(x=X['Installs'],y=y)"
   ]
  },
  {
   "cell_type": "code",
   "execution_count": null,
   "id": "ba62d4e1",
   "metadata": {
    "colab": {
     "base_uri": "https://localhost:8080/",
     "height": 296
    },
    "id": "tj_rWmYB-Kzw",
    "outputId": "c2b1e67b-4b72-4c46-fbc3-ceaf569cb05d"
   },
   "outputs": [
    {
     "data": {
      "text/plain": [
       "<matplotlib.axes._subplots.AxesSubplot at 0x7ff878b7dc90>"
      ]
     },
     "execution_count": 41,
     "metadata": {},
     "output_type": "execute_result"
    },
    {
     "data": {
      "image/png": "[encoded data removed]",
      "text/plain": [
       "<Figure size 432x288 with 1 Axes>"
      ]
     },
     "metadata": {
      "needs_background": "light"
     },
     "output_type": "display_data"
    }
   ],
   "source": [
    "sns.lineplot(x=X['Size'],y=y)"
   ]
  },
  {
   "cell_type": "code",
   "execution_count": null,
   "id": "ff7f8b10",
   "metadata": {
    "colab": {
     "base_uri": "https://localhost:8080/"
    },
    "id": "s76M0CdE_c5f",
    "outputId": "b4a2fe70-510f-4693-c1a8-e868dd01e48b"
   },
   "outputs": [
    {
     "data": {
      "text/plain": [
       "Category              int64\n",
       "Installs            float64\n",
       "Free                  int64\n",
       "Size                 object\n",
       "Ad Supported          int64\n",
       "In App Purchases      int64\n",
       "Size_Log            float64\n",
       "Month Released        Int64\n",
       "Min_Version         float64\n",
       "Max_Version         float64\n",
       "dtype: object"
      ]
     },
     "execution_count": 44,
     "metadata": {},
     "output_type": "execute_result"
    }
   ],
   "source": [
    "X.dtypes"
   ]
  },
  {
   "cell_type": "code",
   "execution_count": null,
   "id": "7b2831f7",
   "metadata": {
    "colab": {
     "base_uri": "https://localhost:8080/",
     "height": 296
    },
    "id": "g6JrHuvy-RXG",
    "outputId": "6ff13abf-c365-4050-b12d-fbf7f94722c0"
   },
   "outputs": [
    {
     "data": {
      "text/plain": [
       "<matplotlib.axes._subplots.AxesSubplot at 0x7ff886d09b10>"
      ]
     },
     "execution_count": 45,
     "metadata": {},
     "output_type": "execute_result"
    },
    {
     "data": {
      "image/png": "[encoded data removed]",
      "text/plain": [
       "<Figure size 432x288 with 1 Axes>"
      ]
     },
     "metadata": {
      "needs_background": "light"
     },
     "output_type": "display_data"
    }
   ],
   "source": [
    "sns.lineplot(x=X['Month Released'].astype('float64'),y=X['Installs'])"
   ]
  },
  {
   "cell_type": "code",
   "execution_count": null,
   "id": "12e96cfa",
   "metadata": {
    "colab": {
     "base_uri": "https://localhost:8080/",
     "height": 296
    },
    "id": "D6A_-3iO_ydf",
    "outputId": "18e0ec6a-dc38-4351-e282-9eee2ec0f6e4"
   },
   "outputs": [
    {
     "data": {
      "text/plain": [
       "<matplotlib.axes._subplots.AxesSubplot at 0x7ff886d1ca90>"
      ]
     },
     "execution_count": 46,
     "metadata": {},
     "output_type": "execute_result"
    },
    {
     "data": {
      "image/png": "[encoded data removed]",
      "text/plain": [
       "<Figure size 432x288 with 1 Axes>"
      ]
     },
     "metadata": {
      "needs_background": "light"
     },
     "output_type": "display_data"
    }
   ],
   "source": [
    "sns.lineplot(x=X['Month Released'].astype('float64'),y=y)"
   ]
  },
  {
   "cell_type": "code",
   "execution_count": null,
   "id": "c1afd11e",
   "metadata": {
    "colab": {
     "base_uri": "https://localhost:8080/",
     "height": 206
    },
    "id": "GtpI8TzeLKch",
    "outputId": "000bd277-bafa-4f72-ae4b-a7d9943a0282"
   },
   "outputs": [
    {
     "data": {
      "text/html": [
       "<div>\n",
       "<style scoped>\n",
       "    .dataframe tbody tr th:only-of-type {\n",
       "        vertical-align: middle;\n",
       "    }\n",
       "\n",
       "    .dataframe tbody tr th {\n",
       "        vertical-align: top;\n",
       "    }\n",
       "\n",
       "    .dataframe thead th {\n",
       "        text-align: right;\n",
       "    }\n",
       "</style>\n",
       "<table border=\"1\" class=\"dataframe\">\n",
       "  <thead>\n",
       "    <tr style=\"text-align: right;\">\n",
       "      <th></th>\n",
       "      <th>Category</th>\n",
       "      <th>Installs</th>\n",
       "      <th>Price</th>\n",
       "      <th>Size</th>\n",
       "      <th>Ad Supported</th>\n",
       "      <th>In App Purchases</th>\n",
       "      <th>Size_Log</th>\n",
       "      <th>Month Released</th>\n",
       "      <th>Min_Version</th>\n",
       "      <th>Max_Version</th>\n",
       "    </tr>\n",
       "  </thead>\n",
       "  <tbody>\n",
       "    <tr>\n",
       "      <th>0</th>\n",
       "      <td>0</td>\n",
       "      <td>-1.205850</td>\n",
       "      <td>0.0</td>\n",
       "      <td>10M</td>\n",
       "      <td>0</td>\n",
       "      <td>0</td>\n",
       "      <td>0.114331</td>\n",
       "      <td>2</td>\n",
       "      <td>2.903848</td>\n",
       "      <td>0.013597</td>\n",
       "    </tr>\n",
       "    <tr>\n",
       "      <th>1</th>\n",
       "      <td>1</td>\n",
       "      <td>0.745363</td>\n",
       "      <td>0.0</td>\n",
       "      <td>2.9M</td>\n",
       "      <td>1</td>\n",
       "      <td>0</td>\n",
       "      <td>-0.349857</td>\n",
       "      <td>5</td>\n",
       "      <td>0.725563</td>\n",
       "      <td>0.013597</td>\n",
       "    </tr>\n",
       "    <tr>\n",
       "      <th>2</th>\n",
       "      <td>2</td>\n",
       "      <td>-0.716754</td>\n",
       "      <td>0.0</td>\n",
       "      <td>3.7M</td>\n",
       "      <td>0</td>\n",
       "      <td>0</td>\n",
       "      <td>-0.258501</td>\n",
       "      <td>8</td>\n",
       "      <td>-0.311715</td>\n",
       "      <td>0.013597</td>\n",
       "    </tr>\n",
       "    <tr>\n",
       "      <th>3</th>\n",
       "      <td>3</td>\n",
       "      <td>-1.205850</td>\n",
       "      <td>0.0</td>\n",
       "      <td>1.8M</td>\n",
       "      <td>1</td>\n",
       "      <td>0</td>\n",
       "      <td>-0.528698</td>\n",
       "      <td>9</td>\n",
       "      <td>-0.311715</td>\n",
       "      <td>0.013597</td>\n",
       "    </tr>\n",
       "    <tr>\n",
       "      <th>4</th>\n",
       "      <td>1</td>\n",
       "      <td>-0.498884</td>\n",
       "      <td>0.0</td>\n",
       "      <td>6.2M</td>\n",
       "      <td>0</td>\n",
       "      <td>0</td>\n",
       "      <td>-0.064926</td>\n",
       "      <td>2</td>\n",
       "      <td>-0.207987</td>\n",
       "      <td>0.013597</td>\n",
       "    </tr>\n",
       "  </tbody>\n",
       "</table>\n",
       "</div>"
      ],
      "text/plain": [
       "   Category  Installs  Price  ... Month Released  Min_Version  Max_Version\n",
       "0         0 -1.205850    0.0  ...              2     2.903848     0.013597\n",
       "1         1  0.745363    0.0  ...              5     0.725563     0.013597\n",
       "2         2 -0.716754    0.0  ...              8    -0.311715     0.013597\n",
       "3         3 -1.205850    0.0  ...              9    -0.311715     0.013597\n",
       "4         1 -0.498884    0.0  ...              2    -0.207987     0.013597\n",
       "\n",
       "[5 rows x 10 columns]"
      ]
     },
     "execution_count": 37,
     "metadata": {},
     "output_type": "execute_result"
    }
   ],
   "source": [
    "std_scaler = StandardScaler()\n",
    "X['Installs'] = std_scaler.fit_transform(X[['Installs']])\n",
    "X['Size_Log'] = std_scaler.fit_transform(X[['Size_Log']])\n",
    "X['Min_Version'] = std_scaler.fit_transform(X[['Min_Version']])\n",
    "X['Max_Version'] = std_scaler.fit_transform(X[['Max_Version']])\n",
    "X.head()"
   ]
  },
  {
   "cell_type": "code",
   "execution_count": null,
   "id": "4cc19403",
   "metadata": {
    "id": "XKvCOb4XLKci",
    "outputId": "461627bb-db94-487d-eb76-0c286d38921a"
   },
   "outputs": [
    {
     "data": {
      "text/html": [
       "<div>\n",
       "<style scoped>\n",
       "    .dataframe tbody tr th:only-of-type {\n",
       "        vertical-align: middle;\n",
       "    }\n",
       "\n",
       "    .dataframe tbody tr th {\n",
       "        vertical-align: top;\n",
       "    }\n",
       "\n",
       "    .dataframe thead th {\n",
       "        text-align: right;\n",
       "    }\n",
       "</style>\n",
       "<table border=\"1\" class=\"dataframe\">\n",
       "  <thead>\n",
       "    <tr style=\"text-align: right;\">\n",
       "      <th></th>\n",
       "      <th>App Id</th>\n",
       "      <th>Category</th>\n",
       "      <th>Rating</th>\n",
       "      <th>Installs</th>\n",
       "      <th>Currency</th>\n",
       "      <th>Developer Id</th>\n",
       "      <th>Developer Website</th>\n",
       "      <th>Developer Email</th>\n",
       "      <th>Privacy Policy</th>\n",
       "      <th>Ad Supported</th>\n",
       "      <th>In App Purchases</th>\n",
       "      <th>Editors Choice</th>\n",
       "      <th>Scraped Time</th>\n",
       "    </tr>\n",
       "  </thead>\n",
       "  <tbody>\n",
       "    <tr>\n",
       "      <th>0</th>\n",
       "      <td>com.ishakwe.gakondo</td>\n",
       "      <td>Adventure</td>\n",
       "      <td>0.0</td>\n",
       "      <td>10+</td>\n",
       "      <td>USD</td>\n",
       "      <td>Jean Confident Irénée NIYIZIBYOSE</td>\n",
       "      <td>https://beniyizibyose.tk/#/</td>\n",
       "      <td>jean21101999@gmail.com</td>\n",
       "      <td>https://beniyizibyose.tk/projects/</td>\n",
       "      <td>False</td>\n",
       "      <td>False</td>\n",
       "      <td>False</td>\n",
       "      <td>2021-06-15 20:19:35</td>\n",
       "    </tr>\n",
       "    <tr>\n",
       "      <th>1</th>\n",
       "      <td>com.webserveis.batteryinfo</td>\n",
       "      <td>Tools</td>\n",
       "      <td>4.4</td>\n",
       "      <td>5,000+</td>\n",
       "      <td>USD</td>\n",
       "      <td>Webserveis</td>\n",
       "      <td>https://webserveis.netlify.app/</td>\n",
       "      <td>webserveis@gmail.com</td>\n",
       "      <td>https://dev4phones.wordpress.com/licencia-de-uso/</td>\n",
       "      <td>True</td>\n",
       "      <td>False</td>\n",
       "      <td>False</td>\n",
       "      <td>2021-06-15 20:19:35</td>\n",
       "    </tr>\n",
       "    <tr>\n",
       "      <th>2</th>\n",
       "      <td>com.doantiepvien.crm</td>\n",
       "      <td>Productivity</td>\n",
       "      <td>0.0</td>\n",
       "      <td>50+</td>\n",
       "      <td>USD</td>\n",
       "      <td>Cabin Crew</td>\n",
       "      <td>NaN</td>\n",
       "      <td>vnacrewit@gmail.com</td>\n",
       "      <td>https://www.vietnamairlines.com/vn/en/terms-an...</td>\n",
       "      <td>False</td>\n",
       "      <td>False</td>\n",
       "      <td>False</td>\n",
       "      <td>2021-06-15 20:19:35</td>\n",
       "    </tr>\n",
       "    <tr>\n",
       "      <th>3</th>\n",
       "      <td>cst.stJoseph.ug17ucs548</td>\n",
       "      <td>Communication</td>\n",
       "      <td>5.0</td>\n",
       "      <td>10+</td>\n",
       "      <td>USD</td>\n",
       "      <td>Climate Smart Tech2</td>\n",
       "      <td>http://www.climatesmarttech.com/</td>\n",
       "      <td>climatesmarttech2@gmail.com</td>\n",
       "      <td>NaN</td>\n",
       "      <td>True</td>\n",
       "      <td>False</td>\n",
       "      <td>False</td>\n",
       "      <td>2021-06-15 20:19:35</td>\n",
       "    </tr>\n",
       "    <tr>\n",
       "      <th>4</th>\n",
       "      <td>com.horodyski.grower</td>\n",
       "      <td>Tools</td>\n",
       "      <td>0.0</td>\n",
       "      <td>100+</td>\n",
       "      <td>USD</td>\n",
       "      <td>Rafal Milek-Horodyski</td>\n",
       "      <td>http://www.horodyski.com.pl</td>\n",
       "      <td>rmilekhorodyski@gmail.com</td>\n",
       "      <td>http://www.horodyski.com.pl</td>\n",
       "      <td>False</td>\n",
       "      <td>False</td>\n",
       "      <td>False</td>\n",
       "      <td>2021-06-15 20:19:35</td>\n",
       "    </tr>\n",
       "  </tbody>\n",
       "</table>\n",
       "</div>"
      ],
      "text/plain": [
       "                       App Id       Category  Rating Installs Currency  \\\n",
       "0         com.ishakwe.gakondo      Adventure     0.0      10+      USD   \n",
       "1  com.webserveis.batteryinfo          Tools     4.4   5,000+      USD   \n",
       "2        com.doantiepvien.crm   Productivity     0.0      50+      USD   \n",
       "3     cst.stJoseph.ug17ucs548  Communication     5.0      10+      USD   \n",
       "4        com.horodyski.grower          Tools     0.0     100+      USD   \n",
       "\n",
       "                        Developer Id                 Developer Website  \\\n",
       "0  Jean Confident Irénée NIYIZIBYOSE       https://beniyizibyose.tk/#/   \n",
       "1                         Webserveis   https://webserveis.netlify.app/   \n",
       "2                         Cabin Crew                               NaN   \n",
       "3                Climate Smart Tech2  http://www.climatesmarttech.com/   \n",
       "4              Rafal Milek-Horodyski       http://www.horodyski.com.pl   \n",
       "\n",
       "               Developer Email  \\\n",
       "0       jean21101999@gmail.com   \n",
       "1         webserveis@gmail.com   \n",
       "2          vnacrewit@gmail.com   \n",
       "3  climatesmarttech2@gmail.com   \n",
       "4    rmilekhorodyski@gmail.com   \n",
       "\n",
       "                                      Privacy Policy  Ad Supported  \\\n",
       "0                 https://beniyizibyose.tk/projects/         False   \n",
       "1  https://dev4phones.wordpress.com/licencia-de-uso/          True   \n",
       "2  https://www.vietnamairlines.com/vn/en/terms-an...         False   \n",
       "3                                                NaN          True   \n",
       "4                        http://www.horodyski.com.pl         False   \n",
       "\n",
       "   In App Purchases  Editors Choice         Scraped Time  \n",
       "0             False           False  2021-06-15 20:19:35  \n",
       "1             False           False  2021-06-15 20:19:35  \n",
       "2             False           False  2021-06-15 20:19:35  \n",
       "3             False           False  2021-06-15 20:19:35  \n",
       "4             False           False  2021-06-15 20:19:35  "
      ]
     },
     "execution_count": 36,
     "metadata": {},
     "output_type": "execute_result"
    }
   ],
   "source": [
    "app_data_required_attributes = app_data.drop(['App Name', 'Size', 'Content Rating', 'Minimum Android', 'Rating Count', 'Minimum Installs', 'Maximum Installs', 'Price', 'Released', 'Last Updated', 'Free'], axis=1)\n",
    "app_data_required_attributes.head(5)"
   ]
  },
  {
   "cell_type": "code",
   "execution_count": null,
   "id": "cee8bbde",
   "metadata": {
    "id": "W5u9Ni9_LKci"
   },
   "outputs": [],
   "source": [
    "from sklearn.model_selection import train_test_split\n",
    "X_train, X_test, y_train, y_test = train_test_split(X, y, train_size = 0.8)"
   ]
  },
  {
   "cell_type": "code",
   "execution_count": null,
   "id": "3d0e9d51",
   "metadata": {
    "id": "6zechmdNLKci",
    "outputId": "167b179c-6b41-49bc-9ea5-e249f9af7a86"
   },
   "outputs": [
    {
     "name": "stdout",
     "output_type": "stream",
     "text": [
      "{5.0: 276645, 4.0: 552129, 0.0: 844407, 3.0: 118383, 2.0: 32831, 1.0: 2433}\n"
     ]
    }
   ],
   "source": [
    "count = {}\n",
    "for i in y_train:\n",
    "    if i not in count:\n",
    "        count[i] = 0\n",
    "    count[i] = count[i] + 1\n",
    "print(count)"
   ]
  },
  {
   "cell_type": "code",
   "execution_count": null,
   "id": "401fc974",
   "metadata": {
    "id": "ylsfZCw8LKci",
    "outputId": "d7aa76b5-674e-45ba-b525-2ee5de79539c"
   },
   "outputs": [
    {
     "name": "stdout",
     "output_type": "stream",
     "text": [
      "Accuracy = 65.12 %\n"
     ]
    }
   ],
   "source": [
    "rf_model = RandomForestClassifier()\n",
    "rf_model.fit(X_train,y_train)\n",
    "y_pred = rf_model.predict(X_test)\n",
    "rf_acc = accuracy_score(y_pred,y_test)*100\n",
    "print(\"Accuracy =\",round(rf_acc,2),\"%\")"
   ]
  },
  {
   "cell_type": "code",
   "execution_count": null,
   "id": "8e7c450b",
   "metadata": {
    "id": "y5eeWq0dLKcj",
    "outputId": "8fe9b68d-45a9-4a84-8e3f-f05a4b3052c7"
   },
   "outputs": [
    {
     "name": "stdout",
     "output_type": "stream",
     "text": [
      "Accuracy = 68.97 %\n"
     ]
    },
    {
     "name": "stderr",
     "output_type": "stream",
     "text": [
      "/Users/mayankverma/opt/anaconda3/lib/python3.8/site-packages/sklearn/linear_model/_logistic.py:763: ConvergenceWarning: lbfgs failed to converge (status=1):\n",
      "STOP: TOTAL NO. of ITERATIONS REACHED LIMIT.\n",
      "\n",
      "Increase the number of iterations (max_iter) or scale the data as shown in:\n",
      "    https://scikit-learn.org/stable/modules/preprocessing.html\n",
      "Please also refer to the documentation for alternative solver options:\n",
      "    https://scikit-learn.org/stable/modules/linear_model.html#logistic-regression\n",
      "  n_iter_i = _check_optimize_result(\n"
     ]
    }
   ],
   "source": [
    "from sklearn.linear_model import LogisticRegression\n",
    "\n",
    "clf = LogisticRegression(random_state=0).fit( X_train, y_train)\n",
    "y_pred = clf.predict(X_test)\n",
    "rf_acc = accuracy_score(y_pred, y_test)*100\n",
    "print(\"Accuracy =\",round(rf_acc,2),\"%\")"
   ]
  },
  {
   "cell_type": "code",
   "execution_count": null,
   "id": "9ff6793a",
   "metadata": {
    "id": "dxgox9uQLKcj"
   },
   "outputs": [],
   "source": [
    "from sklearn.naive_bayes import BernoulliNB\n",
    "from sklearn.naive_bayes import GaussianNB\n",
    "from sklearn.naive_bayes import MultinomialNB\n",
    "from sklearn import svm\n",
    "clf = svm.SVC()\n",
    "# clf = GaussianNB()\n",
    "# clf = MultinomialNB()\n",
    "# clf = BernoulliNB()\n",
    "clf.fit( X_train, y_train)\n",
    "y_pred = clf.predict(X_test)\n",
    "rf_acc = accuracy_score(y_pred, y_test)*100\n",
    "print(\"Accuracy =\",round(rf_acc,2),\"%\")"
   ]
  },
  {
   "cell_type": "code",
   "execution_count": null,
   "id": "8b78b39b",
   "metadata": {
    "id": "Rvl5qmjALKcj",
    "outputId": "b2644aab-e02b-44a1-b1b2-2060561b18f9"
   },
   "outputs": [
    {
     "name": "stdout",
     "output_type": "stream",
     "text": [
      "Accuracy = 68.99 %\n"
     ]
    }
   ],
   "source": [
    "from sklearn.neural_network import MLPClassifier\n",
    "clf = MLPClassifier(random_state=1, max_iter=300).fit(X_train, y_train)\n",
    "clf.fit( X_train, y_train)\n",
    "y_pred = clf.predict(X_test)\n",
    "rf_acc = accuracy_score(y_pred, y_test)*100\n",
    "print(\"Accuracy =\",round(rf_acc,2),\"%\")"
   ]
  },
  {
   "cell_type": "code",
   "execution_count": null,
   "id": "a5080783",
   "metadata": {
    "id": "aAZToSLmLKcj",
    "outputId": "cb83380c-e08d-4908-f906-72c3b90201af"
   },
   "outputs": [
    {
     "data": {
      "text/plain": [
       "array([[193136,    182,   1050,   3337,  15964,  31453],\n",
       "       [     0,      0,      0,      0,      0,      0],\n",
       "       [     0,      0,      0,      0,      0,      0],\n",
       "       [     1,      0,      0,      0,      2,      0],\n",
       "       [ 17909,    440,   7120,  26281, 121939,  37450],\n",
       "       [   116,      2,      5,     13,    123,    184]])"
      ]
     },
     "execution_count": 33,
     "metadata": {},
     "output_type": "execute_result"
    }
   ],
   "source": [
    "confusion_matrix(y_pred, y_test)"
   ]
  },
  {
   "cell_type": "code",
   "execution_count": null,
   "id": "e0c4cc53",
   "metadata": {
    "id": "rM9XeSWhLKcj",
    "outputId": "0605c06a-f62d-49ef-c410-ae4c27681cb9"
   },
   "outputs": [
    {
     "data": {
      "text/plain": [
       "'M'"
      ]
     },
     "execution_count": 120,
     "metadata": {},
     "output_type": "execute_result"
    }
   ],
   "source": [
    "res[-1]"
   ]
  },
  {
   "cell_type": "code",
   "execution_count": null,
   "id": "aff89964",
   "metadata": {
    "id": "RgdTDDkoLKck",
    "outputId": "5f6c404c-3085-4dc4-ff39-cea269d00ab8"
   },
   "outputs": [
    {
     "data": {
      "text/plain": [
       "'551'"
      ]
     },
     "execution_count": 121,
     "metadata": {},
     "output_type": "execute_result"
    }
   ],
   "source": [
    "res[:-1]"
   ]
  },
  {
   "cell_type": "code",
   "execution_count": null,
   "id": "a50a3122",
   "metadata": {
    "id": "20B3L2oOLKck"
   },
   "outputs": [],
   "source": [
    "res = ''\n",
    "for val in set(app_data['Minimum Android']):\n",
    "    res = res + val + '    ==>    ' + str(get_min_version(val)) + ' to ' + str(get_max_version(val)) + '\\n'\n",
    "with open('temp.txt', 'w') as fw:\n",
    "    fw.write(res)"
   ]
  },
  {
   "cell_type": "code",
   "execution_count": null,
   "id": "ac980820",
   "metadata": {
    "id": "-M37EaxzLKck"
   },
   "outputs": [],
   "source": []
  }
 ],
 "metadata": {
  "colab": {
   "collapsed_sections": [],
   "name": "PreProcess_RandomForest.ipynb",
   "provenance": []
  },
  "kernelspec": {
   "display_name": "Python 3",
   "language": "python",
   "name": "python3"
  },
  "language_info": {
   "codemirror_mode": {
    "name": "ipython",
    "version": 3
   },
   "file_extension": ".py",
   "mimetype": "text/x-python",
   "name": "python",
   "nbconvert_exporter": "python",
   "pygments_lexer": "ipython3",
   "version": "3.7.6"
  }
 },
 "nbformat": 4,
 "nbformat_minor": 5
}
